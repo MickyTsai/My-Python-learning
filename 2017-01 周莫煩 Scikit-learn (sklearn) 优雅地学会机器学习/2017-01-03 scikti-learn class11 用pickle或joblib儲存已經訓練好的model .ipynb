{
 "cells": [
  {
   "cell_type": "code",
   "execution_count": 6,
   "metadata": {
    "collapsed": false
   },
   "outputs": [],
   "source": [
    "from sklearn.datasets import load_iris\n",
    "from sklearn.svm import SVC\n",
    "\n",
    "iris = load_iris()\n",
    "X = iris.data\n",
    "y = iris.target\n",
    "\n",
    "clf = SVC()\n",
    "clf.fit(X,y)\n",
    "\n",
    "#（方法一） 用pickle\n",
    "import pickle\n",
    "\n",
    "#儲存 存在資料夾save(要先建立好)檔名命名為clf.pickle\n",
    "with open('save/clf.pickle','wb') as f:\n",
    "    pickle.dump(clf,f)\n",
    "    \n",
    "#讀取\n",
    "with open('save/clf.pickle','rb') as f:\n",
    "    clf2 = pickle.load(f)\n",
    "\n",
    "    \n",
    "    \n",
    "    \n",
    "#（方法二） 用joblib 優點：更加簡便，在讀取model速度也比較快，缺點：存的檔案一堆\n",
    "from sklearn.externals import joblib\n",
    "\n",
    "#save\n",
    "joblib.dump(clf,'save/clf.jlib')\n",
    "\n",
    "# restore\n",
    "clf3 = joblib.load('save/clf.jlib')\n"
   ]
  },
  {
   "cell_type": "code",
   "execution_count": null,
   "metadata": {
    "collapsed": true
   },
   "outputs": [],
   "source": []
  }
 ],
 "metadata": {
  "anaconda-cloud": {},
  "kernelspec": {
   "display_name": "Python [conda root]",
   "language": "python",
   "name": "conda-root-py"
  },
  "language_info": {
   "codemirror_mode": {
    "name": "ipython",
    "version": 3
   },
   "file_extension": ".py",
   "mimetype": "text/x-python",
   "name": "python",
   "nbconvert_exporter": "python",
   "pygments_lexer": "ipython3",
   "version": "3.5.2"
  }
 },
 "nbformat": 4,
 "nbformat_minor": 1
}
