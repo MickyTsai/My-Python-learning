{
 "cells": [
  {
   "cell_type": "code",
   "execution_count": 47,
   "metadata": {
    "collapsed": false
   },
   "outputs": [
    {
     "name": "stdout",
     "output_type": "stream",
     "text": [
      "             A   B   C   D\n",
      "2016-12-09   0   1   2   3\n",
      "2016-12-10   4   5   6   7\n",
      "2016-12-11   8   9  10  11\n",
      "2016-12-12  12  13  14  15\n",
      "2016-12-13  16  17  18  19\n",
      "2016-12-14  20  21  22  23\n"
     ]
    }
   ],
   "source": [
    "import pandas as pd\n",
    "import numpy as np\n",
    "dates = pd.date_range('20161209',periods=6)\n",
    "df = pd.DataFrame(np.arange(24).reshape((6,4)),index=dates,columns=['A','B','C','D'])\n",
    "print(df)                                                                  "
   ]
  },
  {
   "cell_type": "code",
   "execution_count": 10,
   "metadata": {
    "collapsed": false
   },
   "outputs": [
    {
     "name": "stdout",
     "output_type": "stream",
     "text": [
      "             A   B   C   D\n",
      "2016-12-09   0   1   2   3\n",
      "2016-12-10  15   5   6   7\n",
      "2016-12-11   8   9  10  11\n",
      "2016-12-12  12  13  14  15\n",
      "2016-12-13  16  17  18  19\n",
      "2016-12-14  20  21  22  23\n"
     ]
    }
   ],
   "source": [
    "#loc = 標籤式\n",
    "\n",
    "df.loc['20161210','A'] = 15\n",
    "print(df)"
   ]
  },
  {
   "cell_type": "code",
   "execution_count": 12,
   "metadata": {
    "collapsed": false
   },
   "outputs": [
    {
     "name": "stdout",
     "output_type": "stream",
     "text": [
      "                        A     B     C     D  20161209\n",
      "2016-12-09 00:00:00   0.0   1.0   2.0   3.0       NaN\n",
      "2016-12-10 00:00:00  15.0   5.0   6.0   7.0       NaN\n",
      "2016-12-11 00:00:00   8.0   9.0  10.0  11.0       NaN\n",
      "2016-12-12 00:00:00  12.0  13.0  14.0  15.0       NaN\n",
      "2016-12-13 00:00:00  16.0  17.0  18.0  19.0       NaN\n",
      "2016-12-14 00:00:00  20.0  21.0  22.0  23.0       NaN\n",
      "D                     NaN   NaN   NaN   NaN       9.0\n",
      "E                    77.0  77.0  77.0  77.0      77.0\n"
     ]
    }
   ],
   "source": [
    "## 錯誤示範\n",
    "\n",
    "df.loc['D','20161209'] = 9 #行，列，順序不可顛倒，不然就會變這樣。\n",
    "df.loc['E'] = 77 #變成多一個“Ｅ”的”行“\n",
    "print(df)"
   ]
  },
  {
   "cell_type": "code",
   "execution_count": 18,
   "metadata": {
    "collapsed": false
   },
   "outputs": [
    {
     "name": "stdout",
     "output_type": "stream",
     "text": [
      "             A   B    C   D\n",
      "2016-12-09   0   1    2   3\n",
      "2016-12-10   4   5    6   7\n",
      "2016-12-11   8   9   10  11\n",
      "2016-12-12  12  13  333  15\n",
      "2016-12-13  16  17   18  19\n",
      "2016-12-14  20  21   22  23\n",
      "             A   B    C   D\n",
      "2016-12-09   0  99   99  99\n",
      "2016-12-10   4  99   99  99\n",
      "2016-12-11   8   9   10  11\n",
      "2016-12-12  12  13  333  15\n",
      "2016-12-13  16  17   18  19\n",
      "2016-12-14  20  21   22  23\n"
     ]
    }
   ],
   "source": [
    "# iloc = 位置式\n",
    "\n",
    "df.iloc[3,2] = 333\n",
    "print(df)\n",
    "df.iloc[:2,1:4] = 99\n",
    "print(df)"
   ]
  },
  {
   "cell_type": "code",
   "execution_count": 20,
   "metadata": {
    "collapsed": false
   },
   "outputs": [
    {
     "name": "stdout",
     "output_type": "stream",
     "text": [
      "              A    B    C    D\n",
      "2016-12-09    0    1    2    3\n",
      "2016-12-10    4    5    6    7\n",
      "2016-12-11    8    9   10   11\n",
      "2016-12-12   12   13   14   15\n",
      "2016-12-13  666  666  666  666\n",
      "2016-12-14   20   21   22   23\n"
     ]
    }
   ],
   "source": [
    "df.iloc[4] = 666 #先更改到的是”行“\n",
    "print(df)"
   ]
  },
  {
   "cell_type": "code",
   "execution_count": 22,
   "metadata": {
    "collapsed": false
   },
   "outputs": [
    {
     "name": "stdout",
     "output_type": "stream",
     "text": [
      "            A  B   C   D\n",
      "2016-12-09  0  1   2   3\n",
      "2016-12-10  4  5   6   7\n",
      "2016-12-11  8  9  10  11\n",
      "2016-12-12  0  0   0   0\n",
      "2016-12-13  0  0   0   0\n",
      "2016-12-14  0  0   0   0\n"
     ]
    }
   ],
   "source": [
    "# ix 混合式（位置和標籤都可）\n",
    "\n",
    "# Boolean indexing = 條件式\n",
    "\n",
    "df[df.A>8] = 0\n",
    "print(df)"
   ]
  },
  {
   "cell_type": "code",
   "execution_count": 48,
   "metadata": {
    "collapsed": false
   },
   "outputs": [
    {
     "name": "stdout",
     "output_type": "stream",
     "text": [
      "             A  B   C   D\n",
      "2016-12-09   0  1   2   3\n",
      "2016-12-10   4  5   6   7\n",
      "2016-12-11   8  9  10  11\n",
      "2016-12-12  12  9  14  15\n",
      "2016-12-13  16  9  18  19\n",
      "2016-12-14  20  9  22  23\n"
     ]
    }
   ],
   "source": [
    "df.B[df.A>6] =9 #縮小範圍改變(常用)\n",
    "print(df)"
   ]
  },
  {
   "cell_type": "code",
   "execution_count": 27,
   "metadata": {
    "collapsed": false
   },
   "outputs": [
    {
     "name": "stdout",
     "output_type": "stream",
     "text": [
      "             A   B   C   D   E\n",
      "2016-12-09   0   1   2   3 NaN\n",
      "2016-12-10   4   5   6   7 NaN\n",
      "2016-12-11   8   9  10  11 NaN\n",
      "2016-12-12  12  13  14  15 NaN\n",
      "2016-12-13  16  17  18  19 NaN\n",
      "2016-12-14  20  21  22  23 NaN\n"
     ]
    }
   ],
   "source": [
    "#表格添加\n",
    "\n",
    "df['E'] = np.nan\n",
    "print(df)"
   ]
  },
  {
   "cell_type": "code",
   "execution_count": 33,
   "metadata": {
    "collapsed": false
   },
   "outputs": [
    {
     "name": "stdout",
     "output_type": "stream",
     "text": [
      "             A   B   C   D  F\n",
      "2016-12-09   0   1   2   3  0\n",
      "2016-12-10   4   5   6   7  1\n",
      "2016-12-11   8   9  10  11  2\n",
      "2016-12-12  12  13  14  15  3\n",
      "2016-12-13  16  17  18  19  4\n",
      "2016-12-14  20  21  22  23  5\n"
     ]
    }
   ],
   "source": [
    "df['F'] = np.arange(6) #範圍不可超過或太小於原表格，會報錯\n",
    "print(df)"
   ]
  },
  {
   "cell_type": "code",
   "execution_count": 37,
   "metadata": {
    "collapsed": false
   },
   "outputs": [
    {
     "name": "stdout",
     "output_type": "stream",
     "text": [
      "             A   B   C   D    G\n",
      "2016-12-09   0   1   2   3    4\n",
      "2016-12-10   4   5   6   7   55\n",
      "2016-12-11   8   9  10  11   32\n",
      "2016-12-12  12  13  14  15  555\n",
      "2016-12-13  16  17  18  19   67\n",
      "2016-12-14  20  21  22  23   88\n"
     ]
    }
   ],
   "source": [
    "df['G'] = [4,55,32,555,67,88]\n",
    "print(df)"
   ]
  },
  {
   "cell_type": "code",
   "execution_count": 46,
   "metadata": {
    "collapsed": false
   },
   "outputs": [
    {
     "name": "stdout",
     "output_type": "stream",
     "text": [
      "             A   B   C   D   H\n",
      "2016-12-09   0   1   2   3   1\n",
      "2016-12-10   4   5   6   7   2\n",
      "2016-12-11   8   9  10  11   3\n",
      "2016-12-12  12  13  14  15   4\n",
      "2016-12-13  16  17  18  19   5\n",
      "2016-12-14  20  21  22  23  66\n"
     ]
    }
   ],
   "source": [
    "#嚴謹一點的方式\n",
    "\n",
    "df['H'] = pd.Series([1,2,3,4,5,66],index=dates)\n",
    "print(df)"
   ]
  },
  {
   "cell_type": "code",
   "execution_count": null,
   "metadata": {
    "collapsed": true
   },
   "outputs": [],
   "source": []
  }
 ],
 "metadata": {
  "anaconda-cloud": {},
  "kernelspec": {
   "display_name": "Python [conda root]",
   "language": "python",
   "name": "conda-root-py"
  },
  "language_info": {
   "codemirror_mode": {
    "name": "ipython",
    "version": 3
   },
   "file_extension": ".py",
   "mimetype": "text/x-python",
   "name": "python",
   "nbconvert_exporter": "python",
   "pygments_lexer": "ipython3",
   "version": "3.5.2"
  }
 },
 "nbformat": 4,
 "nbformat_minor": 1
}
