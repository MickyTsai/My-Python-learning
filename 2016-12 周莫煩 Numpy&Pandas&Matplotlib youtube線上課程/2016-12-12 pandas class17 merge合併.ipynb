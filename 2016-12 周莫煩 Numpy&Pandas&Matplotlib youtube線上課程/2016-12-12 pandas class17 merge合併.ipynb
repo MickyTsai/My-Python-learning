{
 "cells": [
  {
   "cell_type": "code",
   "execution_count": 1,
   "metadata": {
    "collapsed": false
   },
   "outputs": [
    {
     "name": "stdout",
     "output_type": "stream",
     "text": [
      "    A   B key\n",
      "0  A1  B1  k1\n",
      "1  A2  B2  k2\n",
      "2  A3  B3  k3\n",
      "    C   D key\n",
      "0  C1  D1  k1\n",
      "1  C2  D2  k2\n",
      "2  C3  D3  k3\n"
     ]
    }
   ],
   "source": [
    "import pandas as pd\n",
    "import numpy as np\n",
    "\n",
    "df1 = pd.DataFrame({'key':['k1','k2','k3'],\n",
    "                    'A':['A1','A2','A3'],\n",
    "                    'B':['B1','B2','B3']})\n",
    "df2 = pd.DataFrame({'key':['k1','k2','k3'],\n",
    "                   'C':['C1','C2','C3'],\n",
    "                   'D':['D1','D2','D3']})\n",
    "print(df1)\n",
    "print(df2)"
   ]
  },
  {
   "cell_type": "code",
   "execution_count": 2,
   "metadata": {
    "collapsed": false
   },
   "outputs": [
    {
     "name": "stdout",
     "output_type": "stream",
     "text": [
      "    A   B key   C   D\n",
      "0  A1  B1  k1  C1  D1\n",
      "1  A2  B2  k2  C2  D2\n",
      "2  A3  B3  k3  C3  D3\n"
     ]
    }
   ],
   "source": [
    "#merge two df by key/keys.(maybe used in database)\n",
    "# merge 用某一特定key來當合併基準\n",
    "\n",
    "print(pd.merge(df1,df2,on='key'))"
   ]
  },
  {
   "cell_type": "code",
   "execution_count": 4,
   "metadata": {
    "collapsed": false
   },
   "outputs": [
    {
     "name": "stdout",
     "output_type": "stream",
     "text": [
      "    A   B key point\n",
      "0  A1  B1  k0    p1\n",
      "1  A2  B2  k1    p2\n",
      "2  A3  B3  k2    p3\n",
      "    C   D key point\n",
      "0  C1  D1  k1    p2\n",
      "1  C2  D2  k2    p3\n",
      "2  C3  D3  k3    p4\n"
     ]
    }
   ],
   "source": [
    "df3 = pd.DataFrame({'key':['k0','k1','k2'],\n",
    "                    'point':['p1','p2','p3'],\n",
    "                    'A':['A1','A2','A3'],\n",
    "                    'B':['B1','B2','B3']})\n",
    "df4 = pd.DataFrame({'key':['k1','k2','k3'],\n",
    "                    'point':['p2','p3','p4'],\n",
    "                   'C':['C1','C2','C3'],\n",
    "                   'D':['D1','D2','D3']})\n",
    "print(df3)\n",
    "print(df4)"
   ]
  },
  {
   "cell_type": "code",
   "execution_count": 5,
   "metadata": {
    "collapsed": false
   },
   "outputs": [
    {
     "name": "stdout",
     "output_type": "stream",
     "text": [
      "    A   B key point   C   D\n",
      "0  A2  B2  k1    p2  C1  D1\n",
      "1  A3  B3  k2    p3  C2  D2\n"
     ]
    }
   ],
   "source": [
    "# 當基準有兩個的時候\n",
    "# how=['inner','outer','left,'right']\n",
    "\n",
    "print(pd.merge(df3,df4,on=['key','point'])) #預設的how='inner'"
   ]
  },
  {
   "cell_type": "code",
   "execution_count": 6,
   "metadata": {
    "collapsed": false
   },
   "outputs": [
    {
     "name": "stdout",
     "output_type": "stream",
     "text": [
      "     A    B key point    C    D\n",
      "0   A1   B1  k0    p1  NaN  NaN\n",
      "1   A2   B2  k1    p2   C1   D1\n",
      "2   A3   B3  k2    p3   C2   D2\n",
      "3  NaN  NaN  k3    p4   C3   D3\n"
     ]
    }
   ],
   "source": [
    "print(pd.merge(df3,df4,on=['key','point'],how='outer'))"
   ]
  },
  {
   "cell_type": "code",
   "execution_count": 7,
   "metadata": {
    "collapsed": false
   },
   "outputs": [
    {
     "name": "stdout",
     "output_type": "stream",
     "text": [
      "    A   B key point    C    D\n",
      "0  A1  B1  k0    p1  NaN  NaN\n",
      "1  A2  B2  k1    p2   C1   D1\n",
      "2  A3  B3  k2    p3   C2   D2\n"
     ]
    }
   ],
   "source": [
    "print(pd.merge(df3,df4,on=['key','point'],how='left'))"
   ]
  },
  {
   "cell_type": "code",
   "execution_count": 8,
   "metadata": {
    "collapsed": false
   },
   "outputs": [
    {
     "name": "stdout",
     "output_type": "stream",
     "text": [
      "     A    B key point   C   D\n",
      "0   A2   B2  k1    p2  C1  D1\n",
      "1   A3   B3  k2    p3  C2  D2\n",
      "2  NaN  NaN  k3    p4  C3  D3\n"
     ]
    }
   ],
   "source": [
    "print(pd.merge(df3,df4,on=['key','point'],how='right'))"
   ]
  },
  {
   "cell_type": "code",
   "execution_count": 10,
   "metadata": {
    "collapsed": false
   },
   "outputs": [
    {
     "name": "stdout",
     "output_type": "stream",
     "text": [
      "     A    B key point    C    D      _merge\n",
      "0   A1   B1  k0    p1  NaN  NaN   left_only\n",
      "1   A2   B2  k1    p2   C1   D1        both\n",
      "2   A3   B3  k2    p3   C2   D2        both\n",
      "3  NaN  NaN  k3    p4   C3   D3  right_only\n",
      "     A    B key point    C    D indicator_column\n",
      "0   A1   B1  k0    p1  NaN  NaN        left_only\n",
      "1   A2   B2  k1    p2   C1   D1             both\n",
      "2   A3   B3  k2    p3   C2   D2             both\n",
      "3  NaN  NaN  k3    p4   C3   D3       right_only\n"
     ]
    }
   ],
   "source": [
    "# indicator 指示 預設是False\n",
    "\n",
    "print(pd.merge(df3,df4,on=['key','point'],how='outer',indicator=True))\n",
    "print(pd.merge(df3,df4,on=['key','point'],how='outer',indicator='indicator_column'))  #更改indicator的預設名稱‘merge’"
   ]
  },
  {
   "cell_type": "code",
   "execution_count": 17,
   "metadata": {
    "collapsed": false
   },
   "outputs": [
    {
     "name": "stdout",
     "output_type": "stream",
     "text": [
      "      A    B    C    D\n",
      "j3  NaN  NaN   C2   D2\n",
      "j4  NaN  NaN   C3   D3\n",
      "k0   A1   B1  NaN  NaN\n",
      "k1   A2   B2  NaN  NaN\n",
      "k2   A3   B3   C1   D1\n"
     ]
    }
   ],
   "source": [
    "# 延續原本有排序的index\n",
    "\n",
    "df5 = pd.DataFrame({'A':['A1','A2','A3'],\n",
    "                    'B':['B1','B2','B3']},index=['k0','k1','k2'])\n",
    "df6 = pd.DataFrame({'C':['C1','C2','C3'],\n",
    "                   'D':['D1','D2','D3']},index=['k2','j3','j4'])\n",
    "\n",
    "print(pd.merge(df5,df6,left_index=True,right_index=True,how='outer'))"
   ]
  },
  {
   "cell_type": "code",
   "execution_count": 23,
   "metadata": {
    "collapsed": false
   },
   "outputs": [
    {
     "name": "stdout",
     "output_type": "stream",
     "text": [
      "  age 員編\n",
      "0  23  A\n",
      "1  77  B\n",
      "2  34  C\n",
      "  age 員編\n",
      "0  18  B\n",
      "1  33  C\n",
      "2  80  D\n"
     ]
    }
   ],
   "source": [
    "#handle overlapping\n",
    "#兩個df 對特定key相互比較\n",
    "\n",
    "boys = pd.DataFrame({'員編':['A','B','C'],\n",
    "                    'age':['23','77','34']})\n",
    "girls = pd.DataFrame({'員編':['B','C','D'],\n",
    "                     'age':['18','33','80']})\n",
    "print(boys)\n",
    "print(girls)"
   ]
  },
  {
   "cell_type": "code",
   "execution_count": 24,
   "metadata": {
    "collapsed": false
   },
   "outputs": [
    {
     "name": "stdout",
     "output_type": "stream",
     "text": [
      "  age_boy 員編 age_girl\n",
      "0      23  A      NaN\n",
      "1      77  B       18\n",
      "2      34  C       33\n",
      "3     NaN  D       80\n"
     ]
    }
   ],
   "source": [
    "print(pd.merge(boys,girls,on='員編',suffixes=['_boy','_girl'],how='outer')) #注意suffixes裡編輯的是對照值那列的名稱“後面添加”"
   ]
  },
  {
   "cell_type": "code",
   "execution_count": null,
   "metadata": {
    "collapsed": true
   },
   "outputs": [],
   "source": []
  }
 ],
 "metadata": {
  "anaconda-cloud": {},
  "kernelspec": {
   "display_name": "Python [conda root]",
   "language": "python",
   "name": "conda-root-py"
  },
  "language_info": {
   "codemirror_mode": {
    "name": "ipython",
    "version": 3
   },
   "file_extension": ".py",
   "mimetype": "text/x-python",
   "name": "python",
   "nbconvert_exporter": "python",
   "pygments_lexer": "ipython3",
   "version": "3.5.2"
  }
 },
 "nbformat": 4,
 "nbformat_minor": 1
}
