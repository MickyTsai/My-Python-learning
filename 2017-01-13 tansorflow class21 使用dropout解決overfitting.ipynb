{
 "cells": [
  {
   "cell_type": "code",
   "execution_count": 1,
   "metadata": {
    "collapsed": false
   },
   "outputs": [
    {
     "name": "stderr",
     "output_type": "stream",
     "text": [
      "//anaconda/lib/python3.5/site-packages/sklearn/cross_validation.py:44: DeprecationWarning: This module was deprecated in version 0.18 in favor of the model_selection module into which all the refactored classes and functions are moved. Also note that the interface of the new CV iterators are different from that of this module. This module will be removed in 0.20.\n",
      "  \"This module will be removed in 0.20.\", DeprecationWarning)\n"
     ]
    },
    {
     "name": "stdout",
     "output_type": "stream",
     "text": [
      "WARNING:tensorflow:From <ipython-input-1-8374df6493b3>:34 in add_layer.: histogram_summary (from tensorflow.python.ops.logging_ops) is deprecated and will be removed after 2016-11-30.\n",
      "Instructions for updating:\n",
      "Please switch to tf.summary.histogram. Note that tf.summary.histogram uses the node name instead of the tag. This means that TensorFlow will automatically de-duplicate summary names based on their scope.\n",
      "WARNING:tensorflow:From <ipython-input-1-8374df6493b3>:34 in add_layer.: histogram_summary (from tensorflow.python.ops.logging_ops) is deprecated and will be removed after 2016-11-30.\n",
      "Instructions for updating:\n",
      "Please switch to tf.summary.histogram. Note that tf.summary.histogram uses the node name instead of the tag. This means that TensorFlow will automatically de-duplicate summary names based on their scope.\n",
      "WARNING:tensorflow:From <ipython-input-1-8374df6493b3>:45 in <module>.: scalar_summary (from tensorflow.python.ops.logging_ops) is deprecated and will be removed after 2016-11-30.\n",
      "Instructions for updating:\n",
      "Please switch to tf.summary.scalar. Note that tf.summary.scalar uses the node name instead of the tag. This means that TensorFlow will automatically de-duplicate summary names based on the scope they are created in. Also, passing a tensor or list of tags to a scalar summary op is no longer supported.\n",
      "WARNING:tensorflow:From <ipython-input-1-8374df6493b3>:52 in <module>.: initialize_all_variables (from tensorflow.python.ops.variables) is deprecated and will be removed after 2017-03-02.\n",
      "Instructions for updating:\n",
      "Use `tf.global_variables_initializer` instead.\n",
      "WARNING:tensorflow:From <ipython-input-1-8374df6493b3>:56 in <module>.: merge_all_summaries (from tensorflow.python.ops.logging_ops) is deprecated and will be removed after 2016-11-30.\n",
      "Instructions for updating:\n",
      "Please switch to tf.summary.merge_all.\n",
      "WARNING:tensorflow:From //anaconda/lib/python3.5/site-packages/tensorflow/python/ops/logging_ops.py:264 in merge_all_summaries.: merge_summary (from tensorflow.python.ops.logging_ops) is deprecated and will be removed after 2016-11-30.\n",
      "Instructions for updating:\n",
      "Please switch to tf.summary.merge.\n",
      "WARNING:tensorflow:From <ipython-input-1-8374df6493b3>:59 in <module>.: SummaryWriter.__init__ (from tensorflow.python.training.summary_io) is deprecated and will be removed after 2016-11-30.\n",
      "Instructions for updating:\n",
      "Please switch to tf.summary.FileWriter. The interface and behavior is the same; this is just a rename.\n",
      "WARNING:tensorflow:From <ipython-input-1-8374df6493b3>:61 in <module>.: SummaryWriter.__init__ (from tensorflow.python.training.summary_io) is deprecated and will be removed after 2016-11-30.\n",
      "Instructions for updating:\n",
      "Please switch to tf.summary.FileWriter. The interface and behavior is the same; this is just a rename.\n"
     ]
    }
   ],
   "source": [
    "from sklearn.datasets import load_digits\n",
    "from sklearn.cross_validation import train_test_split\n",
    "import tensorflow as tf\n",
    "from sklearn.preprocessing import LabelBinarizer\n",
    "\n",
    "\n",
    "#load data\n",
    "digits = load_digits()\n",
    "X = digits.data\n",
    "y = digits.target\n",
    "y = LabelBinarizer().fit_transform(y)\n",
    "#                 ^^常忘記     \n",
    "\n",
    "X_train,X_test,y_train,y_test = train_test_split(X,y,test_size=.3)\n",
    "\n",
    "#define placeholder for inputs on network\n",
    "keep_prob = tf.placeholder(tf.float32)  #<----------------------------新增\n",
    "Xs = tf.placeholder(tf.float32,[None,64])\n",
    "ys = tf.placeholder(tf.float32,[None,10])\n",
    "\n",
    "\n",
    "# define add_layer\n",
    "def add_layer(inputs, in_size, out_size, layer_name, activation_function=None):\n",
    "    Weights = tf.Variable(tf.random_normal([in_size,out_size]))\n",
    "    baises = tf.Variable(tf.zeros([1,out_size]) + 0.1)\n",
    "    Wx_plus_b = tf.matmul(inputs,Weights) + baises\n",
    "    Wx_plus_b = tf.nn.dropout(Wx_plus_b,keep_prob)  #<----------------------------新增，重點！\n",
    "    \n",
    "    if activation_function is None:\n",
    "        outputs = Wx_plus_b\n",
    "    else:\n",
    "        outputs = activation_function(Wx_plus_b,)\n",
    "    #recrod outputs\n",
    "    tf.histogram_summary(layer_name + '/outputs',outputs)\n",
    "    \n",
    "    return outputs\n",
    "\n",
    "#add more layers and return the output of add_layer\n",
    "L1 = add_layer(Xs, 64, 50, 'L1', activation_function=tf.nn.tanh)   #<----新function,測試overfitting用\n",
    "prediction = add_layer(L1, 50, 10, 'prediction', activation_function=tf.nn.softmax)\n",
    "\n",
    "#the loss\n",
    "cross_entropy = tf.reduce_mean(-tf.reduce_sum(ys * tf.log(prediction),reduction_indices=[1]))\n",
    "#record summary\n",
    "tf.scalar_summary('loss',cross_entropy)\n",
    "\n",
    "#Optimizer\n",
    "train_step = tf.train.GradientDescentOptimizer(0.5).minimize(cross_entropy)\n",
    "\n",
    "#active session\n",
    "sess = tf.Session()\n",
    "init = tf.initialize_all_variables()\n",
    "        #^^^^^^^^^^^一直拼錯\n",
    "sess.run(init)\n",
    "#merge summary\n",
    "merged = tf.merge_all_summaries()\n",
    "\n",
    "#summary writer\n",
    "train_writer = tf.train.SummaryWriter('logs/train',sess.graph)\n",
    "                #^^^^^常忘記^^^^^^^^^要大寫\n",
    "test_writer = tf.train.SummaryWriter('logs/test',sess.graph)\n",
    "\n",
    "    \n",
    "#training cross_entropy\n",
    "for i in range(500):\n",
    "    sess.run(train_step, feed_dict={Xs: X_train, ys: y_train, keep_prob:0.6}) #<-----------是冒號不是等於-----保留60%丟去40%\n",
    "    if i % 50 ==0:\n",
    "        #use data_train and data_test recrod train_result\n",
    "        train_result = sess.run(merged, feed_dict={Xs: X_train, ys: y_train, keep_prob: 1})  #<----------------要完整紀錄\n",
    "        test_result = sess.run(merged, feed_dict={Xs: X_test, ys: y_test, keep_prob: 1})  #<------------------要完整紀錄\n",
    "        #writting train_result in writer\n",
    "        train_writer.add_summary(train_result, i)\n",
    "        test_writer.add_summary(test_result, i)\n",
    "        "
   ]
  },
  {
   "cell_type": "code",
   "execution_count": null,
   "metadata": {
    "collapsed": true
   },
   "outputs": [],
   "source": []
  }
 ],
 "metadata": {
  "anaconda-cloud": {},
  "kernelspec": {
   "display_name": "Python [conda root]",
   "language": "python",
   "name": "conda-root-py"
  },
  "language_info": {
   "codemirror_mode": {
    "name": "ipython",
    "version": 3
   },
   "file_extension": ".py",
   "mimetype": "text/x-python",
   "name": "python",
   "nbconvert_exporter": "python",
   "pygments_lexer": "ipython3",
   "version": "3.5.2"
  }
 },
 "nbformat": 4,
 "nbformat_minor": 2
}
