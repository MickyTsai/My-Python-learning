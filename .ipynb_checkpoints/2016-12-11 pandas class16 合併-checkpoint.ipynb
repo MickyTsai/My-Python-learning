{
 "cells": [
  {
   "cell_type": "code",
   "execution_count": 7,
   "metadata": {
    "collapsed": false
   },
   "outputs": [
    {
     "name": "stdout",
     "output_type": "stream",
     "text": [
      "     A    B    C    D\n",
      "0  1.0  1.0  1.0  1.0\n",
      "1  1.0  1.0  1.0  1.0\n",
      "2  1.0  1.0  1.0  1.0\n",
      "     A    B    C    D\n",
      "0  2.0  2.0  2.0  2.0\n",
      "1  2.0  2.0  2.0  2.0\n",
      "2  2.0  2.0  2.0  2.0\n",
      "     A    B    C    D\n",
      "0  3.0  3.0  3.0  3.0\n",
      "1  3.0  3.0  3.0  3.0\n",
      "2  3.0  3.0  3.0  3.0\n"
     ]
    }
   ],
   "source": [
    "import pandas as pd\n",
    "import numpy as np\n",
    "\n",
    "df1 = pd.DataFrame(np.ones((3,4))*1,columns=['A','B','C','D'])\n",
    "df2 = pd.DataFrame(np.ones((3,4))*2,columns=['A','B','C','D'])\n",
    "df3 = pd.DataFrame(np.ones((3,4))*3,columns=['A','B','C','D'])\n",
    "\n",
    "print(df1)\n",
    "print(df2)\n",
    "print(df3)"
   ]
  },
  {
   "cell_type": "code",
   "execution_count": 8,
   "metadata": {
    "collapsed": false
   },
   "outputs": [
    {
     "name": "stdout",
     "output_type": "stream",
     "text": [
      "     A    B    C    D\n",
      "0  1.0  1.0  1.0  1.0\n",
      "1  1.0  1.0  1.0  1.0\n",
      "2  1.0  1.0  1.0  1.0\n",
      "0  2.0  2.0  2.0  2.0\n",
      "1  2.0  2.0  2.0  2.0\n",
      "2  2.0  2.0  2.0  2.0\n",
      "0  3.0  3.0  3.0  3.0\n",
      "1  3.0  3.0  3.0  3.0\n",
      "2  3.0  3.0  3.0  3.0\n"
     ]
    }
   ],
   "source": [
    "#concatenating 連接\n",
    "\n",
    "print(pd.concat([df1,df2,df3]))"
   ]
  },
  {
   "cell_type": "code",
   "execution_count": 9,
   "metadata": {
    "collapsed": false
   },
   "outputs": [
    {
     "name": "stdout",
     "output_type": "stream",
     "text": [
      "     A    B    C    D    A    B    C    D    A    B    C    D\n",
      "0  1.0  1.0  1.0  1.0  2.0  2.0  2.0  2.0  3.0  3.0  3.0  3.0\n",
      "1  1.0  1.0  1.0  1.0  2.0  2.0  2.0  2.0  3.0  3.0  3.0  3.0\n",
      "2  1.0  1.0  1.0  1.0  2.0  2.0  2.0  2.0  3.0  3.0  3.0  3.0\n"
     ]
    }
   ],
   "source": [
    "print(pd.concat([df1,df2,df3],axis=1)) #橫向連接"
   ]
  },
  {
   "cell_type": "code",
   "execution_count": 14,
   "metadata": {
    "collapsed": false
   },
   "outputs": [
    {
     "name": "stdout",
     "output_type": "stream",
     "text": [
      "     A    B    C    D\n",
      "0  1.0  1.0  1.0  1.0\n",
      "1  1.0  1.0  1.0  1.0\n",
      "2  1.0  1.0  1.0  1.0\n",
      "3  2.0  2.0  2.0  2.0\n",
      "4  2.0  2.0  2.0  2.0\n",
      "5  2.0  2.0  2.0  2.0\n",
      "6  3.0  3.0  3.0  3.0\n",
      "7  3.0  3.0  3.0  3.0\n",
      "8  3.0  3.0  3.0  3.0\n"
     ]
    }
   ],
   "source": [
    "print(pd.concat([df1,df2,df3],ignore_index=True)) #重新排序index"
   ]
  },
  {
   "cell_type": "code",
   "execution_count": 30,
   "metadata": {
    "collapsed": false
   },
   "outputs": [
    {
     "name": "stdout",
     "output_type": "stream",
     "text": [
      "     A    B    C    D    E\n",
      "1  4.0  4.0  4.0  4.0  NaN\n",
      "2  4.0  4.0  4.0  4.0  NaN\n",
      "3  4.0  4.0  4.0  4.0  NaN\n",
      "2  NaN  5.0  5.0  5.0  5.0\n",
      "3  NaN  5.0  5.0  5.0  5.0\n",
      "4  NaN  5.0  5.0  5.0  5.0\n",
      "     A    B    C    D    E\n",
      "0  4.0  4.0  4.0  4.0  NaN\n",
      "1  4.0  4.0  4.0  4.0  NaN\n",
      "2  4.0  4.0  4.0  4.0  NaN\n",
      "3  NaN  5.0  5.0  5.0  5.0\n",
      "4  NaN  5.0  5.0  5.0  5.0\n",
      "5  NaN  5.0  5.0  5.0  5.0\n",
      "     A    B    C    D    B    C    D    E\n",
      "1  4.0  4.0  4.0  4.0  NaN  NaN  NaN  NaN\n",
      "2  4.0  4.0  4.0  4.0  5.0  5.0  5.0  5.0\n",
      "3  4.0  4.0  4.0  4.0  5.0  5.0  5.0  5.0\n",
      "4  NaN  NaN  NaN  NaN  5.0  5.0  5.0  5.0\n",
      "     A    B    C    D    B    C    D    E\n",
      "1  4.0  4.0  4.0  4.0  NaN  NaN  NaN  NaN\n",
      "2  4.0  4.0  4.0  4.0  5.0  5.0  5.0  5.0\n",
      "3  4.0  4.0  4.0  4.0  5.0  5.0  5.0  5.0\n"
     ]
    }
   ],
   "source": [
    "df4 = pd.DataFrame(np.ones((3,4))*4,columns=['A','B','C','D'],index=[1,2,3])\n",
    "df5 = pd.DataFrame(np.ones((3,4))*5,columns=['B','C','D','E'],index=[2,3,4])\n",
    "print(pd.concat([df4,df5])) #預設參數join是“outer”\n",
    "print(pd.concat([df4,df5],ignore_index=True)) #重新排序\n",
    "print(pd.concat([df4,df5],axis=1,))\n",
    "print(pd.concat([df4,df5],axis=1,join_axes=[df4.index])) #用df4的index為基準"
   ]
  },
  {
   "cell_type": "code",
   "execution_count": 22,
   "metadata": {
    "collapsed": false
   },
   "outputs": [
    {
     "name": "stdout",
     "output_type": "stream",
     "text": [
      "     B    C    D\n",
      "1  4.0  4.0  4.0\n",
      "2  4.0  4.0  4.0\n",
      "3  4.0  4.0  4.0\n",
      "2  5.0  5.0  5.0\n",
      "3  5.0  5.0  5.0\n",
      "4  5.0  5.0  5.0\n",
      "     B    C    D\n",
      "0  4.0  4.0  4.0\n",
      "1  4.0  4.0  4.0\n",
      "2  4.0  4.0  4.0\n",
      "3  5.0  5.0  5.0\n",
      "4  5.0  5.0  5.0\n",
      "5  5.0  5.0  5.0\n"
     ]
    }
   ],
   "source": [
    "print(pd.concat([df4,df5],join=\"inner\")) #將參數join改為inner\n",
    "print(pd.concat([df4,df5],join='inner',ignore_index=True)) #一樣可以重新排序"
   ]
  },
  {
   "cell_type": "code",
   "execution_count": 35,
   "metadata": {
    "collapsed": false
   },
   "outputs": [
    {
     "name": "stdout",
     "output_type": "stream",
     "text": [
      "     A    B    C    D\n",
      "0  2.0  2.0  2.0  2.0\n",
      "1  2.0  2.0  2.0  2.0\n",
      "2  2.0  2.0  2.0  2.0\n",
      "0  1.0  1.0  1.0  1.0\n",
      "1  1.0  1.0  1.0  1.0\n",
      "2  1.0  1.0  1.0  1.0\n",
      "0  3.0  3.0  3.0  3.0\n",
      "1  3.0  3.0  3.0  3.0\n",
      "2  3.0  3.0  3.0  3.0\n",
      "     A    B    C    D\n",
      "0  2.0  2.0  2.0  2.0\n",
      "1  2.0  2.0  2.0  2.0\n",
      "2  2.0  2.0  2.0  2.0\n",
      "3  1.0  1.0  1.0  1.0\n",
      "4  1.0  1.0  1.0  1.0\n",
      "5  1.0  1.0  1.0  1.0\n",
      "6  3.0  3.0  3.0  3.0\n",
      "7  3.0  3.0  3.0  3.0\n",
      "8  3.0  3.0  3.0  3.0\n"
     ]
    }
   ],
   "source": [
    "print(df2.append([df1,df3])) \n",
    "print(df2.append([df1,df3],ignore_index=True)) "
   ]
  },
  {
   "cell_type": "code",
   "execution_count": 37,
   "metadata": {
    "collapsed": false
   },
   "outputs": [
    {
     "name": "stdout",
     "output_type": "stream",
     "text": [
      "A    1\n",
      "B    2\n",
      "C    3\n",
      "D    4\n",
      "dtype: int64\n",
      "     A    B    C    D\n",
      "0  1.0  1.0  1.0  1.0\n",
      "1  1.0  1.0  1.0  1.0\n",
      "2  1.0  1.0  1.0  1.0\n",
      "3  1.0  2.0  3.0  4.0\n"
     ]
    }
   ],
   "source": [
    "s1 = pd.Series([1,2,3,4],index=['A','B','C','D'])\n",
    "print(s1)\n",
    "print(df1.append(s1,ignore_index=True)) #單純添加單一數列"
   ]
  },
  {
   "cell_type": "code",
   "execution_count": null,
   "metadata": {
    "collapsed": true
   },
   "outputs": [],
   "source": []
  }
 ],
 "metadata": {
  "anaconda-cloud": {},
  "kernelspec": {
   "display_name": "Python [conda root]",
   "language": "python",
   "name": "conda-root-py"
  },
  "language_info": {
   "codemirror_mode": {
    "name": "ipython",
    "version": 3
   },
   "file_extension": ".py",
   "mimetype": "text/x-python",
   "name": "python",
   "nbconvert_exporter": "python",
   "pygments_lexer": "ipython3",
   "version": "3.5.2"
  }
 },
 "nbformat": 4,
 "nbformat_minor": 1
}
