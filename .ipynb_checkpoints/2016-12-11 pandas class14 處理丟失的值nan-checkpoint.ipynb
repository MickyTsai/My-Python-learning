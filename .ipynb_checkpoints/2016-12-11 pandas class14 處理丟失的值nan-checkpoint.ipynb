{
 "cells": [
  {
   "cell_type": "code",
   "execution_count": 1,
   "metadata": {
    "collapsed": false
   },
   "outputs": [
    {
     "name": "stdout",
     "output_type": "stream",
     "text": [
      "             A     B   C     D   E   F\n",
      "2016-12-11   0   1.0   2   3.0   4   5\n",
      "2016-12-12   6   7.0   8   9.0  10  11\n",
      "2016-12-13  12   NaN  14  15.0  16  17\n",
      "2016-12-14  18  19.0  20   NaN  22  23\n",
      "2016-12-15  24  25.0  26  27.0  28  29\n"
     ]
    }
   ],
   "source": [
    "import pandas as pd\n",
    "import numpy as np\n",
    "\n",
    "dates = pd.date_range('20161211',periods=5)\n",
    "df = pd.DataFrame(np.arange(30).reshape((5,6)),index=dates,columns=['A','B','C','D','E','F'])\n",
    "df.iloc[2,1] = np.nan\n",
    "df.iloc[3,3] = np.nan\n",
    "print(df)"
   ]
  },
  {
   "cell_type": "code",
   "execution_count": 5,
   "metadata": {
    "collapsed": false
   },
   "outputs": [
    {
     "name": "stdout",
     "output_type": "stream",
     "text": [
      "                A      B      C      D      E      F\n",
      "2016-12-11  False  False  False  False  False  False\n",
      "2016-12-12  False  False  False  False  False  False\n",
      "2016-12-13  False   True  False  False  False  False\n",
      "2016-12-14  False  False  False   True  False  False\n",
      "2016-12-15  False  False  False  False  False  False\n",
      "True\n"
     ]
    }
   ],
   "source": [
    "# 判斷是否有丟失數值nan\n",
    "\n",
    "print(df.isnull())  #有丟失的位置會顯示True\n",
    "\n",
    "print(np.any(df.isnull()) == True)  #檢查表格中，是否至少有一個丟失值\n"
   ]
  },
  {
   "cell_type": "code",
   "execution_count": 11,
   "metadata": {
    "collapsed": false
   },
   "outputs": [
    {
     "name": "stdout",
     "output_type": "stream",
     "text": [
      "             A     B   C     D   E   F\n",
      "2016-12-11   0   1.0   2   3.0   4   5\n",
      "2016-12-12   6   7.0   8   9.0  10  11\n",
      "2016-12-15  24  25.0  26  27.0  28  29\n",
      "             A   C   E   F\n",
      "2016-12-11   0   2   4   5\n",
      "2016-12-12   6   8  10  11\n",
      "2016-12-13  12  14  16  17\n",
      "2016-12-14  18  20  22  23\n",
      "2016-12-15  24  26  28  29\n"
     ]
    }
   ],
   "source": [
    "# 印出有剔除有丟失值的表格\n",
    "\n",
    "print(df.dropna(axis=0,how ='any'))  #將有nan的“行”剔除\n",
    "print(df.dropna(axis=1,how='any')) #將有nan的”列“剔除"
   ]
  },
  {
   "cell_type": "code",
   "execution_count": 12,
   "metadata": {
    "collapsed": false
   },
   "outputs": [
    {
     "name": "stdout",
     "output_type": "stream",
     "text": [
      "             A     B   C     D   E   F\n",
      "2016-12-11   0   1.0   2   3.0   4   5\n",
      "2016-12-12   6   7.0   8   9.0  10  11\n",
      "2016-12-13  12   NaN  14  15.0  16  17\n",
      "2016-12-14  18  19.0  20   NaN  22  23\n",
      "2016-12-15  24  25.0  26  27.0  28  29\n"
     ]
    }
   ],
   "source": [
    "print(df.dropna(axis=0,how='all')) #全”行“都是丟失值才剔除"
   ]
  },
  {
   "cell_type": "code",
   "execution_count": 13,
   "metadata": {
    "collapsed": false
   },
   "outputs": [
    {
     "name": "stdout",
     "output_type": "stream",
     "text": [
      "             A     B   C     D   E   F\n",
      "2016-12-11   0   1.0   2   3.0   4   5\n",
      "2016-12-12   6   7.0   8   9.0  10  11\n",
      "2016-12-13  12   0.0  14  15.0  16  17\n",
      "2016-12-14  18  19.0  20   0.0  22  23\n",
      "2016-12-15  24  25.0  26  27.0  28  29\n"
     ]
    }
   ],
   "source": [
    "#將丟失值全部用其他值替代\n",
    "\n",
    "print(df.fillna(value=0))  #全用0替代"
   ]
  },
  {
   "cell_type": "code",
   "execution_count": null,
   "metadata": {
    "collapsed": true
   },
   "outputs": [],
   "source": []
  }
 ],
 "metadata": {
  "anaconda-cloud": {},
  "kernelspec": {
   "display_name": "Python [conda root]",
   "language": "python",
   "name": "conda-root-py"
  },
  "language_info": {
   "codemirror_mode": {
    "name": "ipython",
    "version": 3
   },
   "file_extension": ".py",
   "mimetype": "text/x-python",
   "name": "python",
   "nbconvert_exporter": "python",
   "pygments_lexer": "ipython3",
   "version": "3.5.2"
  }
 },
 "nbformat": 4,
 "nbformat_minor": 1
}
