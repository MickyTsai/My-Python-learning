{
 "cells": [
  {
   "cell_type": "code",
   "execution_count": 6,
   "metadata": {
    "collapsed": false
   },
   "outputs": [
    {
     "name": "stdout",
     "output_type": "stream",
     "text": [
      "[[ 5.1  3.5  1.4  0.2]\n",
      " [ 4.9  3.   1.4  0.2]\n",
      " [ 4.7  3.2  1.3  0.2]\n",
      " [ 4.6  3.1  1.5  0.2]\n",
      " [ 5.   3.6  1.4  0.2]]\n",
      "[0 0 0 0 0 0 0 0 0 0 0 0 0 0 0 0 0 0 0 0 0 0 0 0 0 0 0 0 0 0 0 0 0 0 0 0 0\n",
      " 0 0 0 0 0 0 0 0 0 0 0 0 0 1 1 1 1 1 1 1 1 1 1 1 1 1 1 1 1 1 1 1 1 1 1 1 1\n",
      " 1 1 1 1 1 1 1 1 1 1 1 1 1 1 1 1 1 1 1 1 1 1 1 1 1 1 2 2 2 2 2 2 2 2 2 2 2\n",
      " 2 2 2 2 2 2 2 2 2 2 2 2 2 2 2 2 2 2 2 2 2 2 2 2 2 2 2 2 2 2 2 2 2 2 2 2 2\n",
      " 2 2]\n",
      "-------------------------\n",
      "[2 1 1 0 1 0 2 1 1 1 2 2 0 1 1 2 1 2 0 2 2 1 0 1 0 2 1 1 1 2 0 0 2 0 0 1 1\n",
      " 0 2 1 0 1 0 1 2]\n",
      "[2 1 1 0 1 0 2 1 1 1 2 2 0 1 1 2 1 2 0 2 2 1 0 1 0 2 2 1 1 2 0 0 2 0 0 2 1\n",
      " 0 2 2 0 1 0 2 2]\n",
      "-------------------------\n"
     ]
    },
    {
     "name": "stderr",
     "output_type": "stream",
     "text": [
      "//anaconda/lib/python3.5/site-packages/ipykernel/__main__.py:10: VisibleDeprecationWarning: using a non-integer number instead of an integer will result in an error in the future\n"
     ]
    }
   ],
   "source": [
    "import numpy as np\n",
    "from sklearn import datasets\n",
    "\n",
    "iris = datasets.load_iris()\n",
    "iris_X = iris.data            # 每個花特徵資料\n",
    "iris_y = iris.target          # 因特徵被分的各個類別\n",
    "\n",
    "\n",
    "#先印出前iris_X中五個數據看看\n",
    "print(iris_X[:5.:])\n",
    "print(iris_y)       #可以看出依照花的各種數據，被分成類別0，1，2三種類別（類別名不知道）\n",
    "print('-------------------------')\n",
    "\n",
    "#分割出訓練數據與測試數據\n",
    "from sklearn.cross_validation import train_test_split\n",
    "train_X,test_X,train_y,test_y = train_test_split(iris_X,iris_y,test_size=0.3)\n",
    "\n",
    "\n",
    "#將訓練數據帶入機器學習模型，使模型成形，再將測試數據帶入看看預測的跟正確的差別\n",
    "from sklearn.neighbors import KNeighborsClassifier\n",
    "\n",
    "knn = KNeighborsClassifier()  #生成空模型\n",
    "knn.fit(train_X,train_y)     #帶入訓練數據，使模型成形\n",
    "\n",
    "print(knn.predict(test_X))   #將測試資料帶入模型預測\n",
    "print(test_y)                #將測試數據的答案印出，來跟上面比較看看\n",
    "print('-------------------------')\n",
    "#可以看出印出的預測類別跟答案很相近，但不見得會完全正確，就是機器學習！"
   ]
  },
  {
   "cell_type": "code",
   "execution_count": null,
   "metadata": {
    "collapsed": true
   },
   "outputs": [],
   "source": []
  }
 ],
 "metadata": {
  "anaconda-cloud": {},
  "kernelspec": {
   "display_name": "Python [conda root]",
   "language": "python",
   "name": "conda-root-py"
  },
  "language_info": {
   "codemirror_mode": {
    "name": "ipython",
    "version": 3
   },
   "file_extension": ".py",
   "mimetype": "text/x-python",
   "name": "python",
   "nbconvert_exporter": "python",
   "pygments_lexer": "ipython3",
   "version": "3.5.2"
  }
 },
 "nbformat": 4,
 "nbformat_minor": 1
}
