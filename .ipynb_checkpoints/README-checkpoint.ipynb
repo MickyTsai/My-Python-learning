{
 "cells": [
  {
   "cell_type": "markdown",
   "metadata": {},
   "source": [
    "# Python的學習歷程\n",
    "---\n"
   ]
  },
  {
   "cell_type": "markdown",
   "metadata": {},
   "source": [
    "![foo](https://dl.dropboxusercontent.com/u/23064459/python/python-logo.png)\n",
    "單純紀錄在想轉職的過程中，學習Python或相關課程的筆記和整理。  \n",
    "過去沒有寫程式的經驗，所以大多靠自己整理跟找資料理解或詢問上課老師。  \n",
    "話說也因為要求自己po上網，才會強迫讓自己整理得更清楚，也學習GitHub的操作和MarkDown語法。  \n",
    "如果有寫錯的地方歡迎大大鞭撻我一下 ><!!!  \n",
    "獻醜了（一鞠躬）  \n",
    "\n",
    "---\n"
   ]
  },
  {
   "cell_type": "markdown",
   "metadata": {},
   "source": [
    "* ***課程***：台大資工Python程式設計 【268期】[課程資訊連接](https://www.csie.ntu.edu.tw/train/?page=course_info.html&courseid=1708)（2016年08月18日完成） \n"
   ]
  },
  {
   "cell_type": "markdown",
   "metadata": {},
   "source": [
    "* ***線上學習*** numpy＆pandas ＆ matplotlib 周莫煩 [youtube線上教程播放清單](https://www.youtube.com/user/MorvanZhou/playlists?sort=dd&view=50&shelf_id=18)（2016年12月30日 完成）  \n",
    "    * [筆記列表](https://github.com/MickyTsai/My-Python-learning/tree/master/2016-12%20%E5%91%A8%E8%8E%AB%E7%85%A9%20Numpy%26Pandas%26Matplotlib%20youtube%E7%B7%9A%E4%B8%8A%E8%AA%B2%E7%A8%8B)  "
   ]
  },
  {
   "cell_type": "markdown",
   "metadata": {},
   "source": [
    "* ***書籍***:精通 Python｜運用簡單的套件進行現代運算 (Introducing Python: Modern Computing in Simple Packages)"
   ]
  },
  {
   "cell_type": "markdown",
   "metadata": {},
   "source": [
    "* ***課程***：台大資工Python 資料科學實戰 276期 [課程資訊連接](https://www.csie.ntu.edu.tw/train/?page=course_info.html&courseid=1698)（2016年12月23日 完成） \n"
   ]
  },
  {
   "cell_type": "markdown",
   "metadata": {},
   "source": [
    "* ***線上學習*** Scikit-learn 周莫煩 [youtube線上教學頗放清單](https://www.youtube.com/playlist?list=PLXO45tsB95cI7ZleLM5i3XXhhe9YmVrRO)  2016年12月30日新增 ( 2017年1月3日完成)  \n",
    "    * [筆記列表](http://ppt.cc/eCqoV)\n"
   ]
  },
  {
   "cell_type": "code",
   "execution_count": null,
   "metadata": {
    "collapsed": true
   },
   "outputs": [],
   "source": []
  }
 ],
 "metadata": {
  "anaconda-cloud": {},
  "kernelspec": {
   "display_name": "Python [conda root]",
   "language": "python",
   "name": "conda-root-py"
  },
  "language_info": {
   "codemirror_mode": {
    "name": "ipython",
    "version": 3
   },
   "file_extension": ".py",
   "mimetype": "text/x-python",
   "name": "python",
   "nbconvert_exporter": "python",
   "pygments_lexer": "ipython3",
   "version": "3.5.2"
  }
 },
 "nbformat": 4,
 "nbformat_minor": 2
}
