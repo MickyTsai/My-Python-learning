{
 "cells": [
  {
   "cell_type": "code",
   "execution_count": 1,
   "metadata": {
    "collapsed": true
   },
   "outputs": [],
   "source": [
    "#imports\n",
    "import tensorflow as tf\n",
    "import numpy as np"
   ]
  },
  {
   "cell_type": "code",
   "execution_count": 2,
   "metadata": {
    "collapsed": true
   },
   "outputs": [],
   "source": [
    "#creat data\n",
    "x_data = np.random.rand(100).astype(np.float32)\n",
    "y_data = x_data*0.1 + 0.3\n"
   ]
  },
  {
   "cell_type": "code",
   "execution_count": 6,
   "metadata": {
    "collapsed": false
   },
   "outputs": [
    {
     "name": "stdout",
     "output_type": "stream",
     "text": [
      "WARNING:tensorflow:From <ipython-input-6-a0bda44b594d>:12 in <module>.: initialize_all_variables (from tensorflow.python.ops.variables) is deprecated and will be removed after 2017-03-02.\n",
      "Instructions for updating:\n",
      "Use `tf.global_variables_initializer` instead.\n"
     ]
    }
   ],
   "source": [
    "#create tensorflow structure start\n",
    "\n",
    "Weights = tf.Variable(tf.random_uniform([1],-1,1)) #變量名稱Weights，定義變量：隨機，一維，數值範圍-1~1之間\n",
    "Baises = tf.Variable(tf.zeros([1]))                #變量名稱Baises，定義變量：一維，數值0開始\n",
    "\n",
    "y = x_data*Weights + Baises\n",
    "\n",
    "loss = tf.reduce_mean(tf.square(y - y_data)) \n",
    "\n",
    "optimizer = tf.train.GradientDescentOptimizer(0.5)  #optimizer優化器，嘗試係數0.5(通常1以下)，就像sklearn套入分類器\n",
    "train = optimizer.minimize(loss)\n",
    "\n",
    "init = tf.initialize_all_variables()               #激活所有變量\n",
    "\n",
    "#create tensorflow structure end"
   ]
  },
  {
   "cell_type": "code",
   "execution_count": 7,
   "metadata": {
    "collapsed": false
   },
   "outputs": [
    {
     "name": "stdout",
     "output_type": "stream",
     "text": [
      "0 [ 0.77376044] [-0.1522575]\n",
      "20 [ 0.27771795] [ 0.19619662]\n",
      "40 [ 0.14516249] [ 0.27362102]\n",
      "60 [ 0.11147689] [ 0.29329649]\n",
      "80 [ 0.10291657] [ 0.29829648]\n",
      "100 [ 0.10074116] [ 0.2995671]\n",
      "120 [ 0.10018836] [ 0.29988998]\n",
      "140 [ 0.10004786] [ 0.29997206]\n",
      "160 [ 0.10001215] [ 0.29999292]\n",
      "180 [ 0.10000309] [ 0.29999822]\n",
      "200 [ 0.10000077] [ 0.29999956]\n"
     ]
    }
   ],
   "source": [
    "sess = tf.Session()  #執行命令控制，丟進特定變數名，執行某一變量，class7會再說明\n",
    "sess.run(init)  #重要的一步，常常忘記\n",
    "\n",
    "# start training\n",
    "\n",
    "for step in range(201):\n",
    "    sess.run(train)\n",
    "    if step % 20 ==0:\n",
    "        print(step,sess.run(Weights),sess.run(Baises))"
   ]
  },
  {
   "cell_type": "markdown",
   "metadata": {},
   "source": [
    "*2017-01-07 還是很多看不懂的"
   ]
  },
  {
   "cell_type": "code",
   "execution_count": null,
   "metadata": {
    "collapsed": true
   },
   "outputs": [],
   "source": []
  }
 ],
 "metadata": {
  "anaconda-cloud": {},
  "kernelspec": {
   "display_name": "Python [conda root]",
   "language": "python",
   "name": "conda-root-py"
  },
  "language_info": {
   "codemirror_mode": {
    "name": "ipython",
    "version": 3
   },
   "file_extension": ".py",
   "mimetype": "text/x-python",
   "name": "python",
   "nbconvert_exporter": "python",
   "pygments_lexer": "ipython3",
   "version": "3.5.2"
  }
 },
 "nbformat": 4,
 "nbformat_minor": 1
}
