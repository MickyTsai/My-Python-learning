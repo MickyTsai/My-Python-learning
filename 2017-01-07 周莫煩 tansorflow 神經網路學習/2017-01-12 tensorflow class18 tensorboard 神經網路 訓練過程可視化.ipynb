{
 "cells": [
  {
   "cell_type": "code",
   "execution_count": 2,
   "metadata": {
    "collapsed": false
   },
   "outputs": [
    {
     "name": "stdout",
     "output_type": "stream",
     "text": [
      "WARNING:tensorflow:From <ipython-input-2-2aa6f7de8076>:10 in add_layer.: histogram_summary (from tensorflow.python.ops.logging_ops) is deprecated and will be removed after 2016-11-30.\n",
      "Instructions for updating:\n",
      "Please switch to tf.summary.histogram. Note that tf.summary.histogram uses the node name instead of the tag. This means that TensorFlow will automatically de-duplicate summary names based on their scope.\n",
      "WARNING:tensorflow:From <ipython-input-2-2aa6f7de8076>:13 in add_layer.: histogram_summary (from tensorflow.python.ops.logging_ops) is deprecated and will be removed after 2016-11-30.\n",
      "Instructions for updating:\n",
      "Please switch to tf.summary.histogram. Note that tf.summary.histogram uses the node name instead of the tag. This means that TensorFlow will automatically de-duplicate summary names based on their scope.\n",
      "WARNING:tensorflow:From <ipython-input-2-2aa6f7de8076>:20 in add_layer.: histogram_summary (from tensorflow.python.ops.logging_ops) is deprecated and will be removed after 2016-11-30.\n",
      "Instructions for updating:\n",
      "Please switch to tf.summary.histogram. Note that tf.summary.histogram uses the node name instead of the tag. This means that TensorFlow will automatically de-duplicate summary names based on their scope.\n",
      "WARNING:tensorflow:From <ipython-input-2-2aa6f7de8076>:10 in add_layer.: histogram_summary (from tensorflow.python.ops.logging_ops) is deprecated and will be removed after 2016-11-30.\n",
      "Instructions for updating:\n",
      "Please switch to tf.summary.histogram. Note that tf.summary.histogram uses the node name instead of the tag. This means that TensorFlow will automatically de-duplicate summary names based on their scope.\n",
      "WARNING:tensorflow:From <ipython-input-2-2aa6f7de8076>:13 in add_layer.: histogram_summary (from tensorflow.python.ops.logging_ops) is deprecated and will be removed after 2016-11-30.\n",
      "Instructions for updating:\n",
      "Please switch to tf.summary.histogram. Note that tf.summary.histogram uses the node name instead of the tag. This means that TensorFlow will automatically de-duplicate summary names based on their scope.\n",
      "WARNING:tensorflow:From <ipython-input-2-2aa6f7de8076>:37 in <module>.: scalar_summary (from tensorflow.python.ops.logging_ops) is deprecated and will be removed after 2016-11-30.\n",
      "Instructions for updating:\n",
      "Please switch to tf.summary.scalar. Note that tf.summary.scalar uses the node name instead of the tag. This means that TensorFlow will automatically de-duplicate summary names based on the scope they are created in. Also, passing a tensor or list of tags to a scalar summary op is no longer supported.\n",
      "WARNING:tensorflow:From <ipython-input-2-2aa6f7de8076>:48 in <module>.: merge_all_summaries (from tensorflow.python.ops.logging_ops) is deprecated and will be removed after 2016-11-30.\n",
      "Instructions for updating:\n",
      "Please switch to tf.summary.merge_all.\n",
      "WARNING:tensorflow:From //anaconda/lib/python3.5/site-packages/tensorflow/python/ops/logging_ops.py:264 in merge_all_summaries.: merge_summary (from tensorflow.python.ops.logging_ops) is deprecated and will be removed after 2016-11-30.\n",
      "Instructions for updating:\n",
      "Please switch to tf.summary.merge.\n",
      "WARNING:tensorflow:From <ipython-input-2-2aa6f7de8076>:49 in <module>.: SummaryWriter.__init__ (from tensorflow.python.training.summary_io) is deprecated and will be removed after 2016-11-30.\n",
      "Instructions for updating:\n",
      "Please switch to tf.summary.FileWriter. The interface and behavior is the same; this is just a rename.\n"
     ]
    }
   ],
   "source": [
    "import tensorflow as tf\n",
    "import numpy as np\n",
    "\n",
    "\n",
    "def add_layer(inputs,in_size,out_size,n_layer,activation_function='None'): #<------------更動\n",
    "    layer_name = 'layer_%s' %n_layer   #<------------新增\n",
    "    with tf.name_scope('layer'):\n",
    "        with tf.name_scope('weight'):\n",
    "            Weights = tf.Variable(tf.random_normal([in_size,out_size]),name='W')\n",
    "            tf.histogram_summary(layer_name+'/weights',Weights)  #<------------新增\n",
    "        with tf.name_scope('baises'):\n",
    "            baises = tf.Variable(tf.zeros([1,out_size]) + 0.1,name='b')\n",
    "            tf.histogram_summary(layer_name+'/baises',baises)  #<------------新增\n",
    "        with tf.name_scope('Wx_plus_b'):\n",
    "            Wx_plus_b = tf.matmul(inputs,Weights) + baises\n",
    "    if activation_function is None:\n",
    "        output = Wx_plus_b\n",
    "    else:\n",
    "        output = activation_function(Wx_plus_b)\n",
    "        tf.histogram_summary(layer_name+'/output',output) #<------------新增\n",
    "    return output\n",
    "\n",
    "x_data = np.linspace(-1,1,300)[:,np.newaxis]\n",
    "noise = np.random.normal(0,0.05,x_data.shape)  \n",
    "y_data = np.square(x_data) - 0.5 + noise \n",
    "\n",
    "with tf.name_scope('inputs'):\n",
    "    xs = tf.placeholder(tf.float32,[None,1],name='x_input')\n",
    "    ys = tf.placeholder(tf.float32,[None,1],name='y_input')\n",
    "\n",
    "layer_1 = add_layer(xs,1,10,n_layer=1,activation_function= tf.nn.relu) \n",
    "prediction = add_layer(layer_1,10,1,n_layer=2,activation_function=None)\n",
    "\n",
    "\n",
    "with tf.name_scope('loss'):\n",
    "    loss =  tf.reduce_mean(tf.reduce_sum(tf.square(ys - prediction),reduction_indices=[1]))  \n",
    "    tf.scalar_summary('loss',loss)  #<------------新增\n",
    "    \n",
    "with tf.name_scope('train'):\n",
    "    train_step = tf.train.GradientDescentOptimizer(0.1).minimize(loss)\n",
    "\n",
    "if int((tf.__version__).split('.')[1]) < 12:\n",
    "    init = tf.initialize_all_variables()\n",
    "else:\n",
    "    init = tf.global_variables_initializer()\n",
    "\n",
    "sess = tf.Session() \n",
    "merged = tf.merge_all_summaries()   #<------------新增\n",
    "writer = tf.train.SummaryWriter('logs/',sess.graph)\n",
    "sess.run(init)\n",
    " \n",
    "for i in range(1000):\n",
    "    sess.run(train_step,feed_dict={xs:x_data,ys:y_data})\n",
    "    if i % 50 == 0:\n",
    "        result = sess.run(merged,feed_dict={xs:x_data,ys:y_data})  #<------------新增\n",
    "        writer.add_summary(result,i) #<------------新增"
   ]
  },
  {
   "cell_type": "code",
   "execution_count": null,
   "metadata": {
    "collapsed": true
   },
   "outputs": [],
   "source": []
  }
 ],
 "metadata": {
  "anaconda-cloud": {},
  "kernelspec": {
   "display_name": "Python [conda root]",
   "language": "python",
   "name": "conda-root-py"
  },
  "language_info": {
   "codemirror_mode": {
    "name": "ipython",
    "version": 3
   },
   "file_extension": ".py",
   "mimetype": "text/x-python",
   "name": "python",
   "nbconvert_exporter": "python",
   "pygments_lexer": "ipython3",
   "version": "3.5.2"
  }
 },
 "nbformat": 4,
 "nbformat_minor": 2
}
