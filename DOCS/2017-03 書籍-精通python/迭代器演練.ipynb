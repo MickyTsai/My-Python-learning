{
 "cells": [
  {
   "cell_type": "markdown",
   "metadata": {},
   "source": [
    "### 寫一個 簡單的迭代器  "
   ]
  },
  {
   "cell_type": "code",
   "execution_count": 59,
   "metadata": {
    "collapsed": true
   },
   "outputs": [],
   "source": [
    "class simple_iter(object):\n",
    "    def __init__(self, data):\n",
    "        self.index = 0     #先給起始錨點，後面才能不斷遞增\n",
    "        self.data = data\n",
    "    def __iter__(self):\n",
    "        return self       #不是self.data 常錯\n",
    "    def __next__(self):   #只有（self）沒有 data  常搞錯\n",
    "        if self.index < len(self.data):     \n",
    "            value = self.data[self.index]\n",
    "            self.index += 1\n",
    "            return value\n",
    "        else:\n",
    "            raise StopIteration()\n",
    "\n",
    "            \n",
    "            \n",
    "#功能陽春，不過可以迭代list跟string （用簡單的len()方法）\n",
    "#內建的iter() 方法比較強大，還可以迭代 dict，set"
   ]
  },
  {
   "cell_type": "code",
   "execution_count": 84,
   "metadata": {
    "collapsed": false
   },
   "outputs": [
    {
     "name": "stdout",
     "output_type": "stream",
     "text": [
      "i\n",
      " \n",
      "a\n",
      "m\n",
      " \n",
      "m\n",
      "i\n",
      "c\n",
      "k\n",
      "y\n",
      "=====================\n",
      "33\n",
      "1\n",
      "5848\n",
      "32.232\n",
      "323\n"
     ]
    }
   ],
   "source": [
    "test1 = simple_iter('i am micky')\n",
    "test2 = simple_iter([33,1,5848,32.232,323])\n",
    "for i in test1:\n",
    "    print(i)\n",
    "print('=====================')\n",
    "for i in test2:\n",
    "    print(i)\n"
   ]
  },
  {
   "cell_type": "code",
   "execution_count": null,
   "metadata": {
    "collapsed": true
   },
   "outputs": [],
   "source": []
  }
 ],
 "metadata": {
  "anaconda-cloud": {},
  "kernelspec": {
   "display_name": "Python [conda root]",
   "language": "python",
   "name": "conda-root-py"
  },
  "language_info": {
   "codemirror_mode": {
    "name": "ipython",
    "version": 3
   },
   "file_extension": ".py",
   "mimetype": "text/x-python",
   "name": "python",
   "nbconvert_exporter": "python",
   "pygments_lexer": "ipython3",
   "version": "3.5.2"
  }
 },
 "nbformat": 4,
 "nbformat_minor": 2
}
