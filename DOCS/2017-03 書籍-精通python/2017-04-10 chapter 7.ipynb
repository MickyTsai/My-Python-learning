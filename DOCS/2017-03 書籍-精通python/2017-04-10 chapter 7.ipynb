{
 "cells": [
  {
   "cell_type": "markdown",
   "metadata": {},
   "source": [
    "## 編碼\n",
    "1. encode(編碼)  字符到字節(unicode, utf-8 --> byte)\n",
    "2. decode(解碼)  字節到字符(byte --> unicode, utf-8)   \n",
    "\n",
    "參考資料：  \n",
    "[Python 编码为什么那么蛋疼？](http://www.codeceo.com/article/python-so-hard.html)  \n",
    "[如何拿到半数面试公司Offer——我的Python求职之路](http://www.codeceo.com/article/my-python-offer.html)"
   ]
  },
  {
   "cell_type": "code",
   "execution_count": 1,
   "metadata": {
    "collapsed": false
   },
   "outputs": [
    {
     "name": "stdout",
     "output_type": "stream",
     "text": [
      "<class 'str'>\n"
     ]
    },
    {
     "data": {
      "text/plain": [
       "2"
      ]
     },
     "execution_count": 1,
     "metadata": {},
     "output_type": "execute_result"
    }
   ],
   "source": [
    "t = '米奇'\n",
    "print(type(t))\n",
    "len(t)"
   ]
  },
  {
   "cell_type": "code",
   "execution_count": 2,
   "metadata": {
    "collapsed": false
   },
   "outputs": [
    {
     "name": "stdout",
     "output_type": "stream",
     "text": [
      "b'\\xe7\\xb1\\xb3\\xe5\\xa5\\x87'\n",
      "<class 'bytes'>\n"
     ]
    },
    {
     "data": {
      "text/plain": [
       "6"
      ]
     },
     "execution_count": 2,
     "metadata": {},
     "output_type": "execute_result"
    }
   ],
   "source": [
    "T = t.encode('utf-8')  #編碼 (utf-8, ascii, unicode) --> byte\n",
    "print(T)\n",
    "print(type(T))\n",
    "len(T)"
   ]
  },
  {
   "cell_type": "code",
   "execution_count": 3,
   "metadata": {
    "collapsed": false
   },
   "outputs": [
    {
     "name": "stdout",
     "output_type": "stream",
     "text": [
      "米奇\n",
      "<class 'str'>\n"
     ]
    },
    {
     "data": {
      "text/plain": [
       "2"
      ]
     },
     "execution_count": 3,
     "metadata": {},
     "output_type": "execute_result"
    }
   ],
   "source": [
    "TT = T.decode('utf-8') #解碼  byte --> (utf-8, ascii, unicode)\n",
    "print(TT)\n",
    "print(type(TT))\n",
    "len(TT)"
   ]
  },
  {
   "cell_type": "markdown",
   "metadata": {},
   "source": [
    "## 字串處理\n"
   ]
  },
  {
   "cell_type": "code",
   "execution_count": null,
   "metadata": {
    "collapsed": true
   },
   "outputs": [],
   "source": []
  },
  {
   "cell_type": "markdown",
   "metadata": {},
   "source": [
    "## python的回收機制 （清除儲存空間的機制）\n",
    "1. 引用計數\n",
    "2. 循環引用（清除機制-標記）  \n",
    "\n",
    "其他： 3.分代機制"
   ]
  },
  {
   "cell_type": "code",
   "execution_count": 4,
   "metadata": {
    "collapsed": true
   },
   "outputs": [],
   "source": [
    "# 引用計數\n",
    "a = 40      # 创建对象  <40>\n",
    "b = a       # 增加引用， <40> 的计数\n",
    "c = [b]     # 增加引用.  <40> 的计数\n",
    "\n",
    "del a       # 减少引用 <40> 的计数\n",
    "b = 100     # 减少引用 <40> 的计数\n",
    "c[0] = -1   # 减少引用 <40> 的计数"
   ]
  },
  {
   "cell_type": "code",
   "execution_count": 10,
   "metadata": {
    "collapsed": false
   },
   "outputs": [
    {
     "name": "stdout",
     "output_type": "stream",
     "text": [
      "4370954056 4370954056 4370954056\n",
      "Point 刪除\n"
     ]
    }
   ],
   "source": [
    "#觀察 引用計數怎麼運作\n",
    "class Point:\n",
    "    def __init__( self, x=0, y=0):\n",
    "        self.x = x\n",
    "        self.y = y\n",
    "    def __del__(self):\n",
    "        class_name = self.__class__.__name__\n",
    "        print(class_name,'刪除')\n",
    "\n",
    "pt1 = Point()\n",
    "pt2 = pt1\n",
    "pt3 = pt1\n",
    "print(id(pt1), id(pt2), id(pt3)) # 打印对象的id\n",
    "del pt1\n",
    "del pt2\n",
    "del pt3  # 當計數歸零時，被刪除"
   ]
  },
  {
   "cell_type": "markdown",
   "metadata": {},
   "source": [
    "## 正規表達式\n",
    "\n",
    "參考資料：  \n",
    "[Python正则表达式](http://www.runoob.com/python/python-reg-expressions.html)  \n",
    "[Python 正则表达式 re 模块简明笔记](http://www.codeceo.com/article/python-regular-expressions-re-module.html)   \n",
    "[Python 學習筆記 (9) 標準函式庫](http://allenchien.logdown.com/posts/431527-python-study-notes-9-standard-library)  "
   ]
  },
  {
   "cell_type": "markdown",
   "metadata": {
    "collapsed": true
   },
   "source": [
    "## 7.1"
   ]
  },
  {
   "cell_type": "code",
   "execution_count": 13,
   "metadata": {
    "collapsed": true
   },
   "outputs": [],
   "source": [
    "import unicodedata\n",
    "mystery = '\\U0001f4a9' #unicode字串 指派一個值"
   ]
  },
  {
   "cell_type": "code",
   "execution_count": 14,
   "metadata": {
    "collapsed": false
   },
   "outputs": [
    {
     "data": {
      "text/plain": [
       "'PILE OF POO'"
      ]
     },
     "execution_count": 14,
     "metadata": {},
     "output_type": "execute_result"
    }
   ],
   "source": [
    "unicodedata.name(mystery)   "
   ]
  },
  {
   "cell_type": "markdown",
   "metadata": {},
   "source": [
    "## 7.2"
   ]
  },
  {
   "cell_type": "code",
   "execution_count": 17,
   "metadata": {
    "collapsed": false
   },
   "outputs": [
    {
     "name": "stdout",
     "output_type": "stream",
     "text": [
      "b'\\xf0\\x9f\\x92\\xa9'\n"
     ]
    }
   ],
   "source": [
    "pop_bytes = mystery.encode('utf-8')  #將mystery 用utf-8編碼\n",
    "print(pop_bytes)"
   ]
  },
  {
   "cell_type": "markdown",
   "metadata": {},
   "source": [
    "## 7.3"
   ]
  },
  {
   "cell_type": "code",
   "execution_count": 19,
   "metadata": {
    "collapsed": false
   },
   "outputs": [
    {
     "name": "stdout",
     "output_type": "stream",
     "text": [
      "💩\n"
     ]
    }
   ],
   "source": [
    "pop_string = pop_bytes.decode('utf-8')\n",
    "print(pop_string)"
   ]
  },
  {
   "cell_type": "code",
   "execution_count": 20,
   "metadata": {
    "collapsed": false
   },
   "outputs": [
    {
     "data": {
      "text/plain": [
       "False"
      ]
     },
     "execution_count": 20,
     "metadata": {},
     "output_type": "execute_result"
    }
   ],
   "source": [
    "pop_bytes == pop_string"
   ]
  },
  {
   "cell_type": "code",
   "execution_count": 21,
   "metadata": {
    "collapsed": false
   },
   "outputs": [
    {
     "data": {
      "text/plain": [
       "True"
      ]
     },
     "execution_count": 21,
     "metadata": {},
     "output_type": "execute_result"
    }
   ],
   "source": [
    "pop_string == mystery"
   ]
  },
  {
   "cell_type": "markdown",
   "metadata": {},
   "source": [
    "## 7.4 "
   ]
  },
  {
   "cell_type": "code",
   "execution_count": 51,
   "metadata": {
    "collapsed": false
   },
   "outputs": [
    {
     "name": "stdout",
     "output_type": "stream",
     "text": [
      "My kitty cat likes roast beef, \n",
      "My kitty cat likes ham, \n",
      "My kitty cat fell on his head, \n",
      "And now think he's a clam.\n"
     ]
    }
   ],
   "source": [
    "text = \"My kitty cat likes %s, \\n\\\n",
    "My kitty cat likes %s, \\n\\\n",
    "My kitty cat fell on his %s, \\n\\\n",
    "And now think he's a %s.\" % ('roast beef', 'ham', 'head', 'clam') \n",
    "\n",
    "print(text)"
   ]
  },
  {
   "cell_type": "markdown",
   "metadata": {},
   "source": [
    "##  7.5 "
   ]
  },
  {
   "cell_type": "code",
   "execution_count": 67,
   "metadata": {
    "collapsed": true
   },
   "outputs": [],
   "source": [
    "letter = \"\\\n",
    "Dear {salutation} {name}, \\n\\\n",
    "\\n\\\n",
    "Thank you for your letter. We are sorry that our{product}{verbed}in your \\n\\\n",
    "{room}. Please note that it should never be used in a {room}, especially \\n\\\n",
    "near any {animals}.\\n\\\n",
    "\\n\\\n",
    "Send us your receipt and {amount} for shipping and handling. We will send \\n\\\n",
    "you anothor {product} that, in our tests, is {percent}% less likely to \\n\\\n",
    "have {verbed}.\\n\\\n",
    "\\n\\\n",
    "Thank you for your support.\\n\\\n",
    "\\n\\\n",
    "Sincerely,\\n\\\n",
    "{spokesname}\\n\\\n",
    "{job_title}\""
   ]
  },
  {
   "cell_type": "markdown",
   "metadata": {},
   "source": [
    "## 7.6 "
   ]
  },
  {
   "cell_type": "code",
   "execution_count": 65,
   "metadata": {
    "collapsed": true
   },
   "outputs": [],
   "source": [
    "response = {'salutation':'Colonel', \n",
    "           'name':'Hackenbush',\n",
    "           'product':'duck blind',\n",
    "           'verbed':'imploded',\n",
    "           'room':'conservatory',\n",
    "           'animals':'emus',\n",
    "           'amount':'$1.38',\n",
    "           'percent':'1',\n",
    "           'spokesname':'Edger Schmeltz',\n",
    "           'job_title':'Licensed Podiatrist',\n",
    "           }"
   ]
  },
  {
   "cell_type": "code",
   "execution_count": 68,
   "metadata": {
    "collapsed": false
   },
   "outputs": [
    {
     "name": "stdout",
     "output_type": "stream",
     "text": [
      "Dear Colonel Hackenbush, \n",
      "\n",
      "Thank you for your letter. We are sorry that ourduck blindimplodedin your \n",
      "conservatory. Please note that it should never be used in a conservatory, especially \n",
      "near any emus.\n",
      "\n",
      "Send us your receipt and $1.38 for shipping and handling. We will send \n",
      "you anothor duck blind that, in our tests, is 1% less likely to \n",
      "have imploded.\n",
      "\n",
      "Thank you for your support.\n",
      "\n",
      "Sincerely,\n",
      "Edger Schmeltz\n",
      "Licensed Podiatrist\n"
     ]
    }
   ],
   "source": [
    "print(letter.format(**response)) ##解壓字典的方法，常忘！"
   ]
  },
  {
   "cell_type": "markdown",
   "metadata": {},
   "source": [
    "## 7.7"
   ]
  },
  {
   "cell_type": "code",
   "execution_count": 123,
   "metadata": {
    "collapsed": false
   },
   "outputs": [],
   "source": [
    "mammoth = \"\\\n",
    "We have seen the Queen of cheese, \\n\\\n",
    "Laying quietly at your ease, \\n\\\n",
    "Gently fanned by evening breeze -- \\n\\\n",
    "Thy fair form no flies dare seize. \\n\\\n",
    "\\n\\\n",
    "All gaily dressed soon you'll go \\n\\\n",
    "To the great Provincial Show, \\n\\\n",
    "To be admired by many a beau\\n\\\n",
    "In the city of Toronto. \\n\\\n",
    "\\n\\\n",
    "Cows numerous as a swarm of bees -- \\n\\\n",
    "Or as the leaves upon the trees -- \\n\\\n",
    "It did require to make thee please, \\n\\\n",
    "And stand unrivalled Queen of Cheese. \\n\\\n",
    "\\n\\\n",
    "May you not receive a scar as \\n\\\n",
    "We have heard that Mr. Harris \\n\\\n",
    "Intends to send you off as far as \\n\\\n",
    "The great World's show at Paris. \\n\\\n",
    "\\n\\\n",
    "Of the youth -- beware of these -- \\n\\\n",
    "For some of them might rudely squeeze \\n\\\n",
    "And bite your cheek; then songs or glees \\n\\\n",
    "We could not sing o' Queen of Cheese. \\n\\\n",
    "\\n\\\n",
    "We'rt thou suspended from baloon, \\n\\\n",
    "You'd cast a shade, even at noon; \\n\\\n",
    "Folks would think it was the moon \\n\\\n",
    "About to fall and crush them soon. \""
   ]
  },
  {
   "cell_type": "markdown",
   "metadata": {},
   "source": [
    "## 7.8"
   ]
  },
  {
   "cell_type": "code",
   "execution_count": 82,
   "metadata": {
    "collapsed": false
   },
   "outputs": [
    {
     "data": {
      "text/plain": [
       "['cheese', 'cial', 'city', 'ceive', 'car', 'cheek', 'could', 'cast', 'crush']"
      ]
     },
     "execution_count": 82,
     "metadata": {},
     "output_type": "execute_result"
    }
   ],
   "source": [
    "import re\n",
    "re.findall(r'\\bc\\w*', mammoth)  \n",
    "#\\b 是為了指定從“非單字”到“單字”之間當開頭去搜尋（這樣就能確保c是在單字開頭），像concept有兩個c會抓到後方cept"
   ]
  },
  {
   "cell_type": "markdown",
   "metadata": {},
   "source": [
    "## 7.9"
   ]
  },
  {
   "cell_type": "code",
   "execution_count": 91,
   "metadata": {
    "collapsed": false
   },
   "outputs": [
    {
     "data": {
      "text/plain": [
       "['city', 'cast']"
      ]
     },
     "execution_count": 91,
     "metadata": {},
     "output_type": "execute_result"
    }
   ],
   "source": [
    "re.findall(r'\\bc\\w{3}\\b', mammoth)  \n",
    "#頭尾都有\\b 是確保 確實是 “四個字c開頭的單字”"
   ]
  },
  {
   "cell_type": "markdown",
   "metadata": {},
   "source": [
    "## 7.10"
   ]
  },
  {
   "cell_type": "code",
   "execution_count": 102,
   "metadata": {
    "collapsed": false
   },
   "outputs": [
    {
     "data": {
      "text/plain": [
       "['your', 'fair', 'Or', 'scar', 'Mr', 'far', 'For', 'your', 'or']"
      ]
     },
     "execution_count": 102,
     "metadata": {},
     "output_type": "execute_result"
    }
   ],
   "source": [
    "re.findall(r'\\b\\w*r\\b', mammoth)"
   ]
  },
  {
   "cell_type": "markdown",
   "metadata": {},
   "source": [
    "## 7.11"
   ]
  },
  {
   "cell_type": "code",
   "execution_count": 127,
   "metadata": {
    "collapsed": false
   },
   "outputs": [
    {
     "data": {
      "text/plain": [
       "['Queen', 'quietly', 'beau', 'Queen', 'squeeze', 'Queen']"
      ]
     },
     "execution_count": 127,
     "metadata": {},
     "output_type": "execute_result"
    }
   ],
   "source": [
    "re.findall(r'\\b\\w*[aeiou]{3}[^aeiou\\s]*\\w*\\b', mammoth) \n",
    "# [^aeiou]  這部分比較難記住，就是後方要配上 “要接非母音” 為了避免接第四個母音，但beau後面接換行符號（代表空白，也是非母音）所以加上\\s 來排除\n",
    "# [^aeiou\\s] 但加了，但換行符號不只一個（\\n，兩字元），所以加上* ，來匹配任一個\n",
    "# [^aeiou\\s]* beau出現"
   ]
  },
  {
   "cell_type": "markdown",
   "metadata": {},
   "source": [
    "## 7.12"
   ]
  },
  {
   "cell_type": "code",
   "execution_count": 130,
   "metadata": {
    "collapsed": false
   },
   "outputs": [
    {
     "name": "stdout",
     "output_type": "stream",
     "text": [
      "b'GIF89a\\x01\\x00\\x01\\x00\\x80\\x00\\x00\\x00\\x00\\x00\\xff\\xff\\xff!\\xf9\\x04\\x01\\x00\\x00\\x00\\x00,\\x00\\x00\\x00\\x00\\x01\\x00\\x01\\x00\\x00\\x02\\x01D\\x00;'\n"
     ]
    }
   ],
   "source": [
    "import binascii\n",
    "hex_str = '47494638396101000100800000000000ffffff21f90401000000002c000000000100010000020144003b'\n",
    "gif = binascii.unhexlify(hex_str)\n",
    "len(gif)\n",
    "print(gif)"
   ]
  },
  {
   "cell_type": "markdown",
   "metadata": {},
   "source": [
    "## 7.13"
   ]
  },
  {
   "cell_type": "code",
   "execution_count": null,
   "metadata": {
    "collapsed": true
   },
   "outputs": [],
   "source": []
  }
 ],
 "metadata": {
  "anaconda-cloud": {},
  "kernelspec": {
   "display_name": "Python [conda root]",
   "language": "python",
   "name": "conda-root-py"
  },
  "language_info": {
   "codemirror_mode": {
    "name": "ipython",
    "version": 3
   },
   "file_extension": ".py",
   "mimetype": "text/x-python",
   "name": "python",
   "nbconvert_exporter": "python",
   "pygments_lexer": "ipython3",
   "version": "3.5.2"
  }
 },
 "nbformat": 4,
 "nbformat_minor": 2
}
