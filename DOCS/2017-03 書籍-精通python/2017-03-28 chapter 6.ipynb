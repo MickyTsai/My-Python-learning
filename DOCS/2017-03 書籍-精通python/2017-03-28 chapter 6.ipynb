{
 "cells": [
  {
   "cell_type": "markdown",
   "metadata": {},
   "source": [
    "### property\n",
    "用意: \n",
    "1. 就像將類別的屬性 掛上<u>不能直接讀寫</u>的功能\n",
    "2. 這樣再給屬性賦予新的值時，可以給它<u>檢查參數</u>的功能  \n",
    "\n",
    "相關：裝飾器  \n",
    "@property  \n",
    "@name.setter \n",
    "\n",
    "參考來源：  \n",
    "[廖雪風官方網站](http://ppt.cc/N9O5I)  \n",
    "書籍-精通python\n"
   ]
  },
  {
   "cell_type": "code",
   "execution_count": 44,
   "metadata": {
    "collapsed": false
   },
   "outputs": [],
   "source": [
    "class Student():\n",
    "    def __init__(self, test_score):    #如果去掉__init__這部分，就會無法 xxx = Studnet(分數)，要用 xxx.score = 分數\n",
    "        self._score = test_score       #但就可以套用條件檢查輸入值。\n",
    "    \n",
    "    @property\n",
    "    def score(self):\n",
    "        print('using getter')\n",
    "        if self._score >== 60:        #輸出條件檢查\n",
    "            print('及格！')\n",
    "            return self._score\n",
    "        if self._score < 60:\n",
    "            print('不及格！')\n",
    "            return self._score           \n",
    "    \n",
    "    @score.setter                   # 如果去掉@score.setter這部分，就會無法 xxx.score = 分數，只能用 xxx =Studnet(分數)\n",
    "    def score(self, test_score):\n",
    "        print('using setter')\n",
    "        self._score = test_score\n",
    "        if not isinstance(test_score, int):  #輸入條件檢查\n",
    "            raise ValueError(' 請輸入數字!')\n",
    "        if test_score < 0 or test_score > 100:\n",
    "            raise ValueError(' 請輸入0~100!')\n",
    "        \n"
   ]
  },
  {
   "cell_type": "code",
   "execution_count": 45,
   "metadata": {
    "collapsed": false
   },
   "outputs": [],
   "source": [
    "micky = Student(101)  #不會 套進輸入條件檢查"
   ]
  },
  {
   "cell_type": "code",
   "execution_count": 47,
   "metadata": {
    "collapsed": false
   },
   "outputs": [
    {
     "name": "stdout",
     "output_type": "stream",
     "text": [
      "using setter\n"
     ]
    }
   ],
   "source": [
    "micky.score = 88     #有 套進輸入條件檢查"
   ]
  },
  {
   "cell_type": "code",
   "execution_count": 48,
   "metadata": {
    "collapsed": false
   },
   "outputs": [
    {
     "name": "stdout",
     "output_type": "stream",
     "text": [
      "using getter\n",
      "及格！\n"
     ]
    },
    {
     "data": {
      "text/plain": [
       "88"
      ]
     },
     "execution_count": 48,
     "metadata": {},
     "output_type": "execute_result"
    }
   ],
   "source": [
    "micky.score          #有 套進輸出條件檢查"
   ]
  },
  {
   "cell_type": "code",
   "execution_count": null,
   "metadata": {
    "collapsed": true
   },
   "outputs": [],
   "source": []
  }
 ],
 "metadata": {
  "kernelspec": {
   "display_name": "Python [conda root]",
   "language": "python",
   "name": "conda-root-py"
  },
  "language_info": {
   "codemirror_mode": {
    "name": "ipython",
    "version": 3
   },
   "file_extension": ".py",
   "mimetype": "text/x-python",
   "name": "python",
   "nbconvert_exporter": "python",
   "pygments_lexer": "ipython3",
   "version": "3.5.2"
  }
 },
 "nbformat": 4,
 "nbformat_minor": 2
}
