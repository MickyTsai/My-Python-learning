{
 "cells": [
  {
   "cell_type": "code",
   "execution_count": 7,
   "metadata": {
    "collapsed": false
   },
   "outputs": [
    {
     "name": "stdout",
     "output_type": "stream",
     "text": [
      "test cost:  2.30801510811 test accuracy:  0.158600002527\n",
      "test cost:  0.632369458675 test accuracy:  0.797800004482\n",
      "test cost:  0.416358590126 test accuracy:  0.88069999218\n",
      "test cost:  0.326553553343 test accuracy:  0.904200017452\n",
      "test cost:  0.283357262611 test accuracy:  0.917999982834\n",
      "test cost:  0.248594462872 test accuracy:  0.930199980736\n",
      "test cost:  0.262842088938 test accuracy:  0.923099994659\n",
      "test cost:  0.207172483206 test accuracy:  0.940500020981\n"
     ]
    }
   ],
   "source": [
    "import numpy as np\n",
    "\n",
    "from keras.datasets import mnist\n",
    "from keras.utils import np_utils\n",
    "from keras.models import Sequential\n",
    "from keras.layers import Dense, SimpleRNN, Activation\n",
    "from keras.optimizers import Adam\n",
    "\n",
    "TIME_STEP = 28  # same as the height of the image  #圖像總共28行\n",
    "INPUT_SIZE = 28 # same as the width of the image #圖像畫素 每行有28畫素\n",
    "\n",
    "BATCH_SIZE = 50 #每次帶入的資料量（批量）（自設）\n",
    "BATCH_INDEX = 0\n",
    "\n",
    "OUTPUT_SIZE = 10  #預測0~9 分類十種結果\n",
    "CELL_SIZE = 50    #神經元數量（自設）\n",
    "LR = 0.001        #learning range\n",
    "\n",
    "\n",
    "(X_train, y_train), (X_test, y_test) = mnist.load_data()\n",
    "\n",
    "X_train = X_train.reshape(-1, 28, 28)/255\n",
    "X_test = X_test.reshape(-1, 28, 28)/255\n",
    "y_train = np_utils.to_categorical(y_train, nb_classes=10)\n",
    "y_test = np_utils.to_categorical(y_test, nb_classes=10)\n",
    "\n",
    "\n",
    "model = Sequential()\n",
    "#RNN CELL\n",
    "model.add(SimpleRNN(batch_input_shape=(None, TIME_STEP, INPUT_SIZE),\n",
    "                   output_dim=CELL_SIZE,))\n",
    "#output layer\n",
    "model.add(Dense(OUTPUT_SIZE))\n",
    "model.add(Activation('softmax'))\n",
    "#optimizer\n",
    "adam = Adam(LR)\n",
    "model.compile(optimizer=adam,\n",
    "             loss='categorical_crossentropy',\n",
    "             metrics=['accuracy'])\n",
    "\n",
    "#training\n",
    "for step in range(4000):\n",
    "    #要分批帶入\n",
    "    X_batch = X_train[BATCH_INDEX : BATCH_INDEX + BATCH_SIZE, :, :]\n",
    "    y_batch = y_train[BATCH_INDEX : BATCH_INDEX + BATCH_SIZE, :]\n",
    "    cost = model.train_on_batch(X_batch, y_batch)\n",
    "    \n",
    "    #將BATCH_INDEX累加使帶入下一批\n",
    "    BATCH_INDEX += BATCH_SIZE\n",
    "    #(判斷式)BATCH_INDEX歸零，當批數已超過資料個數(X_train.shape[0]=60000)，如否，就維持帶入下一批\n",
    "    BATCH_INDEX = 0 if BATCH_INDEX >= X_train.shape[0]   else BATCH_INDEX\n",
    "    \n",
    "    #testing\n",
    "    #每訓練500次（就是訓練過500x50=25000的資料量），將模型帶入一次測試資料並印出當前結果\n",
    "    if step % 500 == 0:\n",
    "        cost, accuracy = model.evaluate(X_test, y_test, batch_size=y_test.shape[0], verbose=False)\n",
    "        print('test cost: ', cost, 'test accuracy: ', accuracy)"
   ]
  },
  {
   "cell_type": "code",
   "execution_count": null,
   "metadata": {
    "collapsed": true
   },
   "outputs": [],
   "source": []
  }
 ],
 "metadata": {
  "anaconda-cloud": {},
  "kernelspec": {
   "display_name": "Python [conda root]",
   "language": "python",
   "name": "conda-root-py"
  },
  "language_info": {
   "codemirror_mode": {
    "name": "ipython",
    "version": 3
   },
   "file_extension": ".py",
   "mimetype": "text/x-python",
   "name": "python",
   "nbconvert_exporter": "python",
   "pygments_lexer": "ipython3",
   "version": "3.5.2"
  }
 },
 "nbformat": 4,
 "nbformat_minor": 2
}
