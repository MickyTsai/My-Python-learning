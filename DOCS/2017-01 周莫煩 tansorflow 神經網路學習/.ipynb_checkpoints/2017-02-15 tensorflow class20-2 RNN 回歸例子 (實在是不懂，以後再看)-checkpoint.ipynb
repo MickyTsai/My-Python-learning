{
 "cells": [
  {
   "cell_type": "code",
   "execution_count": 2,
   "metadata": {
    "collapsed": false
   },
   "outputs": [
    {
     "name": "stdout",
     "output_type": "stream",
     "text": [
      "0.12.1\n"
     ]
    }
   ],
   "source": [
    "import tensorflow as tf\n",
    "import numpy as np\n",
    "import matplotlib.pyplot as plt\n",
    "\n",
    "BATCH_START =0\n",
    "BATCH_SIZE = 50\n",
    "BATCH_START_TEST = 0\n",
    "\n",
    "TIME_STEPS = 20\n",
    "\n",
    "INPUT_SIZE = 1\n",
    "OUTPUT_SIZE = 1\n",
    "\n",
    "CELL_SIZE = 10\n",
    "LR = 0.006\n",
    "\n",
    "#產生數據\n",
    "def get_batch():\n",
    "    global BATCH_START,TIME_STEPS\n",
    "    # xs_shape = [BATCH_SIZE, TIME_STEPS] =[50, 20] ，並生成整個矩陣大小的數據\n",
    "    xs = np.arange(BATCH_START, BATCH_START + BATCH_SIZE*TIME_STEPS).reshape((BATCH_SIZE, TIME_STEPS))/ (10*np.pi)\n",
    "    \n",
    "    seq = np.sin(xs)\n",
    "    res = np.con(xs)\n",
    "    \n",
    "    BATCH_START += BATCH_STEPS  #隨時間推移\n",
    "    \n",
    "    ##畫圖的部分\n",
    "    ##plt.plot(xs[0, :], seq[0, :], \"r\")\n",
    "    ##plt.plot(xs[0, :], res[0, :], \"b--\")\n",
    "    ##plt.show()\n",
    "    \n",
    "    #returned seq, res, xs   :shape(batch, step, input) #np.newaxis 多加一個維度\n",
    "    return [seq[:, :, np.newaxis], res[:, :, np.newaxis], xs] #seq,res變三維矩陣 但我不知道為何？\n",
    "\n",
    "\n",
    "class LSTM_RNN(object):\n",
    "    def __init__(self, n_steps, input_size, output_size, cell_size, batch_size):\n",
    "        self.n_steps = n_steps\n",
    "        self.input_size = input_size\n",
    "        self.output_size = output_size\n",
    "        self.cell_size = cell_size\n",
    "        self.batch_size = batch_size\n",
    "        \n",
    "        with tf.name_scope('inputs'):\n",
    "            self.xs = tf.placeholder(tf.float32, name='xs', [None, n_steps, input_size])\n",
    "            self.ys = tf.placeholder(tf.float32, name='ys', [None, n_steps, output_size])\n",
    "        \n",
    "        with tf.variable_scope('in_hidden'):\n",
    "            self.add_input_layer()\n",
    "        with tf.variable_scope('LSTM_cell'):\n",
    "            self.add_cell()\n",
    "        with tf.variable_scope('out_hidden'):\n",
    "            self.add_output_layer()\n",
    "        \n",
    "        with tf.name_scope('cost'):\n",
    "            self.compute_cost()\n",
    "        with tf.name_scope('train'):\n",
    "            self.train_op = tf.train.AdamOptimizer(LR).minimize(self.cost)\n",
    "            \n",
    "        ##################重點###################\n",
    "        l_in_x = tf.reshape(self.xs, [-1, self.input_size], name=\"2_2D\")  #l_in_x_shape=[batch*n_step, input_size]\n",
    "        \n",
    "        Ws_in = self._weight_variable([self.input_size, self.cell_size])\n",
    "        bs_in = self._bias_variable([self.cell_size,])\n",
    "        \n",
    "        with tf.name_scope('Wx_plus_b'):\n",
    "            l_in_y = tf.matmul(l_in_x, Ws_in) + bs_in\n",
    "            \n",
    "        self.l_in_y = tf.reshape(l_in_y, [-1, self.n_steps, self.cell_size], name='2_3D')\n",
    "\n",
    "    \n"
   ]
  },
  {
   "cell_type": "markdown",
   "metadata": {},
   "source": [
    "* returned seq, res, xs   :shape(batch, step, input)   \n",
    "為什麼代近sin就是batch? con是step?  \n",
    "\n",
    "* return [seq[:, :, np.newaxis], res[:, :, np.newaxis], xs]  \n",
    "而這裡又為何又用一個列表？\n",
    "\n",
    "現在暫時能理解seq,res多加一個維度是像“第一頁”“第二頁”的概念（隨時間推移）"
   ]
  },
  {
   "cell_type": "code",
   "execution_count": null,
   "metadata": {
    "collapsed": true
   },
   "outputs": [],
   "source": []
  }
 ],
 "metadata": {
  "anaconda-cloud": {},
  "kernelspec": {
   "display_name": "Python [conda root]",
   "language": "python",
   "name": "conda-root-py"
  },
  "language_info": {
   "codemirror_mode": {
    "name": "ipython",
    "version": 3
   },
   "file_extension": ".py",
   "mimetype": "text/x-python",
   "name": "python",
   "nbconvert_exporter": "python",
   "pygments_lexer": "ipython3",
   "version": "3.5.2"
  }
 },
 "nbformat": 4,
 "nbformat_minor": 2
}
