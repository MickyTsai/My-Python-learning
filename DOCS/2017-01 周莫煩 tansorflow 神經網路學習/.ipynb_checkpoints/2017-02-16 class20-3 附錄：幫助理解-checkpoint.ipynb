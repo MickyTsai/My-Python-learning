{
 "cells": [
  {
   "cell_type": "code",
   "execution_count": 17,
   "metadata": {
    "collapsed": false
   },
   "outputs": [
    {
     "name": "stdout",
     "output_type": "stream",
     "text": [
      "[[ 0.03182561  0.06361898  0.0953479 ]\n",
      " [ 0.12698022  0.15848389  0.18982699]]\n",
      "-----------------\n",
      "[[ 0.99949344  0.99797426  0.99544401]\n",
      " [ 0.99190525  0.98736156  0.98181756]]\n",
      "-----------------\n",
      "(2, 3)\n",
      "-----------------\n",
      "[[[ 0.03183099]\n",
      "  [ 0.06366198]\n",
      "  [ 0.09549297]]\n",
      "\n",
      " [[ 0.12732395]\n",
      "  [ 0.15915494]\n",
      "  [ 0.19098593]]]\n",
      "(2, 3, 1)\n",
      "-----------------\n",
      "[[[ 0.03183099  0.06366198  0.09549297]\n",
      "  [ 0.12732395  0.15915494  0.19098593]]]\n",
      "(1, 2, 3)\n"
     ]
    }
   ],
   "source": [
    "import numpy as np\n",
    "\n",
    "x1 = np.array([[1,2,3],\n",
    "              [4,5,6]], float)/ (10*np.pi)   \n",
    "seq = np.sin(x1)\n",
    "res = np.cos(x1)\n",
    "print(seq)\n",
    "#sin週期是2pi = 2*3.14 = 6.28 當pi = 3.14時趨近0,        pi/2= 1.57時接近最大值1, 3pi/2 = 4.71時接近最小值-1\n",
    "print('-----------------')\n",
    "print(res)\n",
    "#cos週期是2pi = 2*3.14 = 6.28 當pi = 3.14時接近最小值-1,  pi/2= 1.57時趨近0,      3pi/2 = 4.71時趨近0,      2pi時接近最大值1\n",
    "\n",
    "print('-----------------')\n",
    "\n",
    "x2 = x1[:, :, np.newaxis]\n",
    "x3 = x1[np.newaxis, :, :]\n",
    "\n",
    "print(x1.shape)\n",
    "print('-----------------')\n",
    "print(x2)\n",
    "print(x2.shape)\n",
    "print('-----------------')\n",
    "print(x3)\n",
    "print(x3.shape)\n"
   ]
  },
  {
   "cell_type": "code",
   "execution_count": 26,
   "metadata": {
    "collapsed": false
   },
   "outputs": [
    {
     "name": "stdout",
     "output_type": "stream",
     "text": [
      "[ 0.03182561  0.06361898  0.0953479 ]\n",
      "[ 0.99949344  0.99797426  0.99544401]\n"
     ]
    }
   ],
   "source": [
    "import matplotlib.pyplot as plt\n",
    "print(seq[0, :]) \n",
    "print(res[0, :])\n"
   ]
  },
  {
   "cell_type": "code",
   "execution_count": null,
   "metadata": {
    "collapsed": true
   },
   "outputs": [],
   "source": []
  }
 ],
 "metadata": {
  "anaconda-cloud": {},
  "kernelspec": {
   "display_name": "Python [conda root]",
   "language": "python",
   "name": "conda-root-py"
  },
  "language_info": {
   "codemirror_mode": {
    "name": "ipython",
    "version": 3
   },
   "file_extension": ".py",
   "mimetype": "text/x-python",
   "name": "python",
   "nbconvert_exporter": "python",
   "pygments_lexer": "ipython3",
   "version": "3.5.2"
  }
 },
 "nbformat": 4,
 "nbformat_minor": 2
}
