{
 "cells": [
  {
   "cell_type": "markdown",
   "metadata": {},
   "source": [
    "## 自己理解後的簡圖\n",
    "* 不保證正確啊！！！\n",
    "* 這也比較能說服自己為啥不代入主線，而是代入支線\n",
    "* 不過是RNN中一個小小lstm，搞得大家好混亂...\n",
    "![lstm_RNN](https://dl.dropboxusercontent.com/u/23064459/python/2017-01%20%E5%91%A8%E8%8E%AB%E7%85%A9%20tansorflow%20%E7%A5%9E%E7%B6%93%E7%B6%B2%E8%B7%AF%E5%AD%B8%E7%BF%92/RNN_lstm.png)"
   ]
  },
  {
   "cell_type": "markdown",
   "metadata": {},
   "source": [
    "* 額外參考資料：[Understanding LSTM Networks](http://colah.github.io/posts/2015-08-Understanding-LSTMs/)\n",
    "* 額外參考資料：[莫煩python教學網站](https://morvanzhou.github.io/tutorials/machine-learning/ML-intro/2-4-LSTM/)"
   ]
  },
  {
   "cell_type": "code",
   "execution_count": null,
   "metadata": {
    "collapsed": true
   },
   "outputs": [],
   "source": []
  }
 ],
 "metadata": {
  "anaconda-cloud": {},
  "kernelspec": {
   "display_name": "Python [conda root]",
   "language": "python",
   "name": "conda-root-py"
  },
  "language_info": {
   "codemirror_mode": {
    "name": "ipython",
    "version": 3
   },
   "file_extension": ".py",
   "mimetype": "text/x-python",
   "name": "python",
   "nbconvert_exporter": "python",
   "pygments_lexer": "ipython3",
   "version": "3.5.2"
  }
 },
 "nbformat": 4,
 "nbformat_minor": 2
}
