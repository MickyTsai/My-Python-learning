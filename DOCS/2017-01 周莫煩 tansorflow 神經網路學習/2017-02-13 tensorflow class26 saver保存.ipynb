{
 "cells": [
  {
   "cell_type": "code",
   "execution_count": 6,
   "metadata": {
    "collapsed": false
   },
   "outputs": [
    {
     "name": "stdout",
     "output_type": "stream",
     "text": [
      "Save to path: my_net/save_net.ckpt\n"
     ]
    }
   ],
   "source": [
    "import tensorflow as tf \n",
    "import numpy as np\n",
    "\n",
    "#save variable\n",
    "#建立變量 !記得之後要restore時帶入的變量的shape和dtype都要一模一樣\n",
    "W = tf.Variable([[1,2,3],\n",
    "                 [4,5,6]], dtype=tf.float32, name='weights')\n",
    "b = tf.Variable([[7,7,7]], dtype=tf.float32, name='baises')\n",
    "#啟動變量\n",
    "init = tf.global_variables_initializer()\n",
    "#啟動Saver\n",
    "saver = tf.train.Saver()\n",
    "          #^^^^^常忘記\n",
    "\n",
    "with tf.Session() as sess:\n",
    "    sess.run(init)\n",
    "    save_path = saver.save(sess, 'my_net/save_net.ckpt')  #my_net資料夾要事先建立好\n",
    "    print('Save to path:', save_path)\n"
   ]
  },
  {
   "cell_type": "code",
   "execution_count": null,
   "metadata": {
    "collapsed": true
   },
   "outputs": [],
   "source": []
  }
 ],
 "metadata": {
  "kernelspec": {
   "display_name": "Python [conda root]",
   "language": "python",
   "name": "conda-root-py"
  },
  "language_info": {
   "codemirror_mode": {
    "name": "ipython",
    "version": 3
   },
   "file_extension": ".py",
   "mimetype": "text/x-python",
   "name": "python",
   "nbconvert_exporter": "python",
   "pygments_lexer": "ipython3",
   "version": "3.5.2"
  }
 },
 "nbformat": 4,
 "nbformat_minor": 2
}
