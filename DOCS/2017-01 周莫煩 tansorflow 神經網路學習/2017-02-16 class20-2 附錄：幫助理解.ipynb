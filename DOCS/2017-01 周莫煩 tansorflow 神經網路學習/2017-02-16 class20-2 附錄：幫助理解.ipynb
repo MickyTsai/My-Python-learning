{
 "cells": [
  {
   "cell_type": "code",
   "execution_count": 21,
   "metadata": {
    "collapsed": false
   },
   "outputs": [
    {
     "name": "stdout",
     "output_type": "stream",
     "text": [
      "[[ 0.84147098  0.90929743  0.14112001]\n",
      " [-0.7568025  -0.95892427 -0.2794155 ]]\n",
      "-----------------\n",
      "[[ 0.54030231 -0.41614684 -0.9899925 ]\n",
      " [-0.65364362  0.28366219  0.96017029]]\n",
      "-----------------\n",
      "(2, 3)\n",
      "-----------------\n",
      "[[[ 1.]\n",
      "  [ 2.]\n",
      "  [ 3.]]\n",
      "\n",
      " [[ 4.]\n",
      "  [ 5.]\n",
      "  [ 6.]]]\n",
      "(2, 3, 1)\n",
      "-----------------\n",
      "[[[ 1.  2.  3.]\n",
      "  [ 4.  5.  6.]]]\n",
      "(1, 2, 3)\n"
     ]
    }
   ],
   "source": [
    "import numpy as np\n",
    "\n",
    "x1 = np.array([[1,2,3],\n",
    "              [4,5,6]], float)/ (10*np.pi)\n",
    "seq = np.sin(x1)\n",
    "res = np.cos(x1)\n",
    "print(seq)\n",
    "print('-----------------')\n",
    "print(res)\n",
    "print('-----------------')\n",
    "\n",
    "x2 = x1[:, :, np.newaxis]\n",
    "x3 = x1[np.newaxis, :, :]\n",
    "\n",
    "print(x1.shape)\n",
    "print('-----------------')\n",
    "print(x2)\n",
    "print(x2.shape)\n",
    "print('-----------------')\n",
    "print(x3)\n",
    "print(x3.shape)\n"
   ]
  },
  {
   "cell_type": "code",
   "execution_count": 14,
   "metadata": {
    "collapsed": false
   },
   "outputs": [
    {
     "name": "stdout",
     "output_type": "stream",
     "text": [
      "[ 0.84147098  0.90929743  0.00159265]\n",
      "[ 0.54030231 -0.41614684 -0.99999873]\n"
     ]
    },
    {
     "data": {
      "image/png": "[encoded data removed]",
      "text/plain": [
       "<matplotlib.figure.Figure at 0x109add828>"
      ]
     },
     "metadata": {},
     "output_type": "display_data"
    }
   ],
   "source": [
    "import matplotlib.pyplot as plt\n",
    "print(seq[0,:]) \n",
    "print(res[0, :])\n",
    "\n",
    "plt.plot(seq[0,:], res[0, :])\n",
    "plt.show()"
   ]
  },
  {
   "cell_type": "code",
   "execution_count": 22,
   "metadata": {
    "collapsed": false
   },
   "outputs": [
    {
     "name": "stdout",
     "output_type": "stream",
     "text": [
      "31.41592653589793\n"
     ]
    }
   ],
   "source": [
    "print(10*np.pi)"
   ]
  },
  {
   "cell_type": "code",
   "execution_count": null,
   "metadata": {
    "collapsed": true
   },
   "outputs": [],
   "source": []
  }
 ],
 "metadata": {
  "kernelspec": {
   "display_name": "Python [conda root]",
   "language": "python",
   "name": "conda-root-py"
  },
  "language_info": {
   "codemirror_mode": {
    "name": "ipython",
    "version": 3
   },
   "file_extension": ".py",
   "mimetype": "text/x-python",
   "name": "python",
   "nbconvert_exporter": "python",
   "pygments_lexer": "ipython3",
   "version": "3.5.2"
  }
 },
 "nbformat": 4,
 "nbformat_minor": 2
}
