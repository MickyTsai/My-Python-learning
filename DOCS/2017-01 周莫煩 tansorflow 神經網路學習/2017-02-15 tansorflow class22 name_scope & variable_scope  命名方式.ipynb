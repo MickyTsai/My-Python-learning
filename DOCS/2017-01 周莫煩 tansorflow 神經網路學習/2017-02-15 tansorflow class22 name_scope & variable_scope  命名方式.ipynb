{
 "cells": [
  {
   "cell_type": "code",
   "execution_count": 1,
   "metadata": {
    "collapsed": false
   },
   "outputs": [
    {
     "name": "stdout",
     "output_type": "stream",
     "text": [
      "WARNING:tensorflow:From <ipython-input-1-5ade67806d65>:16 in <module>.: initialize_all_variables (from tensorflow.python.ops.variables) is deprecated and will be removed after 2017-03-02.\n",
      "Instructions for updating:\n",
      "Use `tf.global_variables_initializer` instead.\n",
      "var1:0\n",
      "[ 1.]\n",
      "a_name_scope/var2:0\n",
      "[ 2.]\n",
      "var2:0\n",
      "[ 1.]\n",
      "a_name_scope/var2_1:0\n",
      "[ 2.0999999]\n",
      "a_name_scope/var2_2:0\n",
      "[ 2.20000005]\n"
     ]
    }
   ],
   "source": [
    "from __future__ import print_function\n",
    "import tensorflow as tf\n",
    "\n",
    "with tf.name_scope(\"a_name_scope\"):\n",
    "    initializer = tf.constant_initializer(value=1)\n",
    "    var1 = tf.get_variable(name='var1', shape=[1], dtype=tf.float32, initializer=initializer)\n",
    "    var2 = tf.Variable(name='var2', initial_value=[2.0], dtype=tf.float32)\n",
    "    var11 = tf.get_variable(name='var2', dtype=tf.float32, shape=[1], initializer=initializer)\n",
    "    var21 = tf.Variable(name='var2', initial_value=[2.1], dtype=tf.float32)\n",
    "    var22 = tf.Variable(name='var2', initial_value=[2.2], dtype=tf.float32)\n",
    "\n",
    "\n",
    "\n",
    "\n",
    "with tf.Session() as sess:\n",
    "    sess.run(tf.initialize_all_variables())\n",
    "    print(var1.name)        \n",
    "    print(sess.run(var1))   \n",
    "    print(var2.name)        \n",
    "    print(sess.run(var2))   \n",
    "    print(var11.name)       \n",
    "    print(sess.run(var11))  \n",
    "    print(var21.name)        \n",
    "    print(sess.run(var21))\n",
    "    print(var22.name)        \n",
    "    print(sess.run(var22))"
   ]
  },
  {
   "cell_type": "code",
   "execution_count": 2,
   "metadata": {
    "collapsed": false
   },
   "outputs": [
    {
     "name": "stdout",
     "output_type": "stream",
     "text": [
      "a_variable_scope/var3:0\n",
      "[ 3.]\n",
      "a_variable_scope/var4:0\n",
      "[ 4.]\n",
      "a_variable_scope/var4_1:0\n",
      "[ 4.]\n",
      "a_variable_scope/var3:0\n",
      "[ 3.]\n"
     ]
    }
   ],
   "source": [
    "with tf.variable_scope(\"a_variable_scope\") as scope:\n",
    "    initializer = tf.constant_initializer(value=3)\n",
    "    var3 = tf.get_variable(name='var3', shape=[1], dtype=tf.float32, initializer=initializer)\n",
    "    var4 = tf.Variable(name='var4', initial_value=[4], dtype=tf.float32)\n",
    "    \n",
    "    var4_reuse = tf.Variable(name='var4', initial_value=[4], dtype=tf.float32)\n",
    "    scope.reuse_variables() #<-------------------重點，要事先提醒variable_scope\n",
    "    var3_reuse = tf.get_variable(name='var3',)\n",
    "\n",
    "with tf.Session() as sess:\n",
    "    sess.run(tf.global_variables_initializer())\n",
    "    \n",
    "    print(var3.name)            # a_variable_scope/var3:0\n",
    "    print(sess.run(var3))       # [ 3.]\n",
    "    print(var4.name)            # a_variable_scope/var4:0\n",
    "    print(sess.run(var4))       # [ 4.]\n",
    "    print(var4_reuse.name)      # a_variable_scope/var4_1:0  #避免報錯，自動生成不一樣variable\n",
    "    print(sess.run(var4_reuse)) # [ 4.]\n",
    "    print(var3_reuse.name)      # a_variable_scope/var3:0    #有事先提醒，所以可以成功使用過去variable，而不會報錯\n",
    "    print(sess.run(var3_reuse)) # [ 3.]"
   ]
  },
  {
   "cell_type": "markdown",
   "metadata": {},
   "source": [
    "## 整理後簡圖\n",
    "![name_scope](https://dl.dropboxusercontent.com/u/23064459/python/2017-01%20%E5%91%A8%E8%8E%AB%E7%85%A9%20tansorflow%20%E7%A5%9E%E7%B6%93%E7%B6%B2%E8%B7%AF%E5%AD%B8%E7%BF%92/name_scope.png)\n",
    "![varuable_scop](https://dl.dropboxusercontent.com/u/23064459/python/2017-01%20%E5%91%A8%E8%8E%AB%E7%85%A9%20tansorflow%20%E7%A5%9E%E7%B6%93%E7%B6%B2%E8%B7%AF%E5%AD%B8%E7%BF%92/variable_scop.png)"
   ]
  },
  {
   "cell_type": "code",
   "execution_count": null,
   "metadata": {
    "collapsed": true
   },
   "outputs": [],
   "source": []
  }
 ],
 "metadata": {
  "anaconda-cloud": {},
  "kernelspec": {
   "display_name": "Python [conda root]",
   "language": "python",
   "name": "conda-root-py"
  },
  "language_info": {
   "codemirror_mode": {
    "name": "ipython",
    "version": 3
   },
   "file_extension": ".py",
   "mimetype": "text/x-python",
   "name": "python",
   "nbconvert_exporter": "python",
   "pygments_lexer": "ipython3",
   "version": "3.5.2"
  }
 },
 "nbformat": 4,
 "nbformat_minor": 2
}
