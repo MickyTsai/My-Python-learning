{
 "cells": [
  {
   "cell_type": "code",
   "execution_count": 3,
   "metadata": {
    "collapsed": false
   },
   "outputs": [
    {
     "name": "stdout",
     "output_type": "stream",
     "text": [
      "weights: [[ 0.  1.  2.]\n",
      " [ 3.  4.  5.]]\n",
      "baises: [[ 7.  7.  7.]]\n"
     ]
    }
   ],
   "source": [
    "import tensorflow as tf\n",
    "import numpy as np\n",
    "\n",
    "W = tf.Variable(np.arange(6).reshape((2, 3)), dtype=tf.float32, name='weight')\n",
    "b = tf.Variable(np.arange(3).reshape((1, 3)), dtype=tf.float32, name='baises')\n",
    "\n",
    "#not need init step\n",
    "\n",
    "saver = tf.train.Saver()\n",
    "\n",
    "with tf.Session() as sess:\n",
    "    saver.restore(sess, 'my_net/save_net.ckpt')  #讀取變量帶入新建的變量（這也就為啥新舊變量要shape和dtype要一樣）\n",
    "    print('weights:', sess.run(W))\n",
    "    print('baises:', sess.run(b))\n",
    "    \n",
    "    "
   ]
  },
  {
   "cell_type": "code",
   "execution_count": null,
   "metadata": {
    "collapsed": true
   },
   "outputs": [],
   "source": []
  }
 ],
 "metadata": {
  "kernelspec": {
   "display_name": "Python [conda root]",
   "language": "python",
   "name": "conda-root-py"
  },
  "language_info": {
   "codemirror_mode": {
    "name": "ipython",
    "version": 3
   },
   "file_extension": ".py",
   "mimetype": "text/x-python",
   "name": "python",
   "nbconvert_exporter": "python",
   "pygments_lexer": "ipython3",
   "version": "3.5.2"
  }
 },
 "nbformat": 4,
 "nbformat_minor": 2
}
