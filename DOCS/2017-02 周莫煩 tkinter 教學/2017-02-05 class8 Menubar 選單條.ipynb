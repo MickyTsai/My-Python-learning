{
 "cells": [
  {
   "cell_type": "code",
   "execution_count": 1,
   "metadata": {
    "collapsed": false
   },
   "outputs": [],
   "source": [
    "import tkinter as tk\n",
    "\n",
    "window = tk.Tk()\n",
    "window.title('my window')\n",
    "window.geometry('200x200')\n",
    "\n",
    "label = tk.Label(window, bg='yellow', text='', width=15, height=2)\n",
    "label.pack()\n",
    "\n",
    "menubar = tk.Menu(window) #視窗主要選單條\n",
    "\n",
    "counter = 0\n",
    "def do_job():\n",
    "    global counter\n",
    "    label.config(text='do' + str(counter))\n",
    "    counter += 1\n",
    "    \n",
    "\n",
    "#次選單：創建新menu黏在(tearoff)menubar上，名字：File\n",
    "filemenu =tk.Menu(menubar, tearoff=0) \n",
    "menubar.add_cascade(label='File', menu=filemenu)\n",
    "#在filemenu上加上功能\n",
    "filemenu.add_command(label='New', command=do_job)\n",
    "filemenu.add_command(label='Open', command=do_job)\n",
    "filemenu.add_command(label='Save', command=do_job)\n",
    "filemenu.add_separator()  #加分隔線\n",
    "filemenu.add_command(label='Exit', command=window.quit)  #.quit關閉視窗指令\n",
    "\n",
    "#次選單：創建新menu黏在(tearoff)menubar上，名字：Edit\n",
    "editmenu = tk.Menu(menubar, tearoff=0)\n",
    "menubar.add_cascade(label='Edit', menu=editmenu)\n",
    "editmenu.add_command(label='Copy', command=do_job)\n",
    "editmenu.add_command(label='Cut', command=do_job)\n",
    "editmenu.add_command(label='Paste', command=do_job)\n",
    "#次次選單：在下拉選單中再多更多menu\n",
    "submenu = tk.Menu(editmenu)\n",
    "editmenu.add_cascade(label='Import', menu=submenu, underline=0)\n",
    "submenu.add_command(label='Submenu1', command=do_job)\n",
    "\n",
    "window.config(menu=menubar) #把menu加上去\n",
    "window.mainloop()\n",
    "\n"
   ]
  },
  {
   "cell_type": "code",
   "execution_count": null,
   "metadata": {
    "collapsed": true
   },
   "outputs": [],
   "source": []
  }
 ],
 "metadata": {
  "kernelspec": {
   "display_name": "Python [conda root]",
   "language": "python",
   "name": "conda-root-py"
  },
  "language_info": {
   "codemirror_mode": {
    "name": "ipython",
    "version": 3
   },
   "file_extension": ".py",
   "mimetype": "text/x-python",
   "name": "python",
   "nbconvert_exporter": "python",
   "pygments_lexer": "ipython3",
   "version": "3.5.2"
  }
 },
 "nbformat": 4,
 "nbformat_minor": 2
}
