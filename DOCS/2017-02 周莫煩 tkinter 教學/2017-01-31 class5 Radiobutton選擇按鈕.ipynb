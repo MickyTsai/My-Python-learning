{
 "cells": [
  {
   "cell_type": "markdown",
   "metadata": {},
   "source": [
    "## 創建一視窗，標籤印出我們所選的按鈕\n",
    " 1. 視窗結構?\n",
    " 2. 標籤的變量？\n",
    " 3. 按鈕如何定義？"
   ]
  },
  {
   "cell_type": "code",
   "execution_count": 2,
   "metadata": {
    "collapsed": false
   },
   "outputs": [],
   "source": [
    "import tkinter as tk\n",
    "\n",
    "window = tk.Tk()\n",
    "window.title('i am window')\n",
    "window.geometry('300x300')\n",
    "\n",
    "\n",
    "l = tk.Label(window, width=4, height=2, text='None', bg='yellow')\n",
    "l.pack()\n",
    "\n",
    "def print_selection():\n",
    "    l.config(text='you have selected ' + var.get(), width=20, bg='green') #.config 可以改變原本物件的設定\n",
    "    \n",
    "var = tk.StringVar()\n",
    "\n",
    "rb1 = tk.Radiobutton(window, text='Option A', command=print_selection, variable=var, value='A') \n",
    "#重要：這裡代表rb中有一個變量var,而變量的值是A，因為var已經定義是一個全域變量，·這樣才能因隨選不同，印出的值不同\n",
    "rb1.pack()\n",
    "\n",
    "rb2 = tk.Radiobutton(window, text='Option B', command=print_selection, variable=var, value='B')\n",
    "rb2.pack()\n",
    "\n",
    "rb3 = tk.Radiobutton(window, text='Option C', command=print_selection, variable=var, value='C')\n",
    "rb3.pack()\n",
    "\n",
    "window.mainloop()"
   ]
  },
  {
   "cell_type": "code",
   "execution_count": null,
   "metadata": {
    "collapsed": true
   },
   "outputs": [],
   "source": []
  }
 ],
 "metadata": {
  "anaconda-cloud": {},
  "kernelspec": {
   "display_name": "Python [conda root]",
   "language": "python",
   "name": "conda-root-py"
  },
  "language_info": {
   "codemirror_mode": {
    "name": "ipython",
    "version": 3
   },
   "file_extension": ".py",
   "mimetype": "text/x-python",
   "name": "python",
   "nbconvert_exporter": "python",
   "pygments_lexer": "ipython3",
   "version": "3.5.2"
  }
 },
 "nbformat": 4,
 "nbformat_minor": 2
}
