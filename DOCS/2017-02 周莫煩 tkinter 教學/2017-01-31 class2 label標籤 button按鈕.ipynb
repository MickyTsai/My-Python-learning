{
 "cells": [
  {
   "cell_type": "code",
   "execution_count": null,
   "metadata": {
    "collapsed": true
   },
   "outputs": [],
   "source": [
    "import tkinter as tk\n",
    "\n",
    "#定義視窗\n",
    "window = tk.Tk()\n",
    "window.title('i am a window')\n",
    "window.geometry('200x100')  #長x高\n",
    "\n",
    "#定義視窗內的標籤內容，大小，等等..\n",
    "L = tk.Label(window, width=20, height=2, bg='green', font=('Arial',12), text='Now you can see me' )\n",
    "L.pack()  #定義標籤位置的其中一種方式\n",
    "\n",
    "window.mainloop()  #類似plt.show() 是一個迴旋，不斷更新視窗標籤。"
   ]
  },
  {
   "cell_type": "markdown",
   "metadata": {},
   "source": [
    "＊ 上面是最簡單，沒按鈕，單純的視窗＋標籤"
   ]
  },
  {
   "cell_type": "markdown",
   "metadata": {},
   "source": [
    "## 創建一個可以靠一個button控制標籤的視窗"
   ]
  },
  {
   "cell_type": "code",
   "execution_count": 1,
   "metadata": {
    "collapsed": false
   },
   "outputs": [],
   "source": [
    "import tkinter as tk\n",
    "\n",
    "window_2 = tk.Tk()\n",
    "window_2.geometry('200x100')\n",
    "window_2.title('window_2')\n",
    "\n",
    "\n",
    "#因為是要字串做變化，定義一個字串變量\n",
    "str_var = tk.StringVar()\n",
    "\n",
    "l_2 = tk.Label(window_2, bg='blue', font=('Arial',12), width=20, height=2, textvariable=str_var ) #text內容由變量控制\n",
    "l_2.pack()\n",
    "\n",
    "#建立button前要先定義button按了之後的指令（就是做一個函式）\n",
    "if_hide = False\n",
    "def after_hide():\n",
    "    global if_hide #先把全局變量帶入\n",
    "    if if_hide == False: #還沒按之前的控制變量狀態\n",
    "        if_hide = True   #改變控制變量狀態\n",
    "        str_var.set('Now! You can see me!') #同時更改字串變量內容，使之顯示\n",
    "    else:\n",
    "        if_hide = False  #因為已經控制變量已經變True，所以再按一次使之變回原來\n",
    "        str_var.set('')  #字串變量變成空內容，消失\n",
    "\n",
    "#建立button\n",
    "b = tk.Button(window_2, width=15, height=2, command=after_hide, text='hit me')  #重點是帶入定義好的函式\n",
    "b.pack()\n",
    "\n",
    "window_2.mainloop()"
   ]
  },
  {
   "cell_type": "code",
   "execution_count": null,
   "metadata": {
    "collapsed": true
   },
   "outputs": [],
   "source": []
  }
 ],
 "metadata": {
  "anaconda-cloud": {},
  "kernelspec": {
   "display_name": "Python [conda root]",
   "language": "python",
   "name": "conda-root-py"
  },
  "language_info": {
   "codemirror_mode": {
    "name": "ipython",
    "version": 3
   },
   "file_extension": ".py",
   "mimetype": "text/x-python",
   "name": "python",
   "nbconvert_exporter": "python",
   "pygments_lexer": "ipython3",
   "version": "3.5.2"
  }
 },
 "nbformat": 4,
 "nbformat_minor": 2
}
