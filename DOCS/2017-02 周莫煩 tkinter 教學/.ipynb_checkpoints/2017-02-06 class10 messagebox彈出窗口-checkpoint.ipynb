{
 "cells": [
  {
   "cell_type": "code",
   "execution_count": 1,
   "metadata": {
    "collapsed": false
   },
   "outputs": [
    {
     "name": "stdout",
     "output_type": "stream",
     "text": [
      "True\n",
      "False\n",
      "None\n"
     ]
    },
    {
     "ename": "SystemExit",
     "evalue": "0",
     "output_type": "error",
     "traceback": [
      "An exception has occurred, use %tb to see the full traceback.\n",
      "\u001b[0;31mSystemExit\u001b[0m\u001b[0;31m:\u001b[0m 0\n"
     ]
    },
    {
     "name": "stderr",
     "output_type": "stream",
     "text": [
      "//anaconda/lib/python3.5/site-packages/IPython/core/interactiveshell.py:2889: UserWarning: To exit: use 'exit', 'quit', or Ctrl-D.\n",
      "  warn(\"To exit: use 'exit', 'quit', or Ctrl-D.\", stacklevel=1)\n"
     ]
    }
   ],
   "source": [
    "import tkinter as tk\n",
    "from tkinter import messagebox #Python3版以上要自行import messagebox (Bug?)\n",
    "\n",
    "window =tk.Tk()\n",
    "window.geometry('200x200')\n",
    "\n",
    "def after_hit():\n",
    "    #tk.messagebox.showinfo(title='Hi', message='this is info')  #秀出要顯示的訊息\n",
    "    #tk.messagebox.showwarning(title='Warning', message='Warning!!!') #秀出警告訊息，圖片不一樣 \n",
    "    #tk.messagebox.showerror(title='Error', message='Error') #秀出要錯誤的訊息\n",
    "    #tk.messagebox.askquestion(title='Hi', message='yes or no?')  #會有return值 'yes' or 'no'，後面可以接續判別式\n",
    "    #tk.messagebox.askyesno(title='Hi', message='yes or no')  #會有return值 'Ture' or 'False'\n",
    "    print(tk.messagebox.askyesnocancel(title='Hi', message='yes or no or cancel'))#會有return值 'Ture'或'False'或'None'\n",
    "    #tk.messagebox.askretrycancel(title='Hi', message='cancel or retry')  #選項不一樣，會有return值 'Ture' or 'False'\n",
    "    #(tk.messagebox.askokcancel(title='Hi', message='cancel or ok'))  #選項不一樣，會有return值 'Ture' or 'False'\n",
    "\n",
    "\n",
    "\n",
    "button = tk.Button(window, text='hit me', command=after_hit).pack()\n",
    "\n",
    "window.mainloop()"
   ]
  },
  {
   "cell_type": "code",
   "execution_count": null,
   "metadata": {
    "collapsed": true
   },
   "outputs": [],
   "source": []
  }
 ],
 "metadata": {
  "anaconda-cloud": {},
  "kernelspec": {
   "display_name": "Python [conda root]",
   "language": "python",
   "name": "conda-root-py"
  },
  "language_info": {
   "codemirror_mode": {
    "name": "ipython",
    "version": 3
   },
   "file_extension": ".py",
   "mimetype": "text/x-python",
   "name": "python",
   "nbconvert_exporter": "python",
   "pygments_lexer": "ipython3",
   "version": "3.5.2"
  }
 },
 "nbformat": 4,
 "nbformat_minor": 2
}
