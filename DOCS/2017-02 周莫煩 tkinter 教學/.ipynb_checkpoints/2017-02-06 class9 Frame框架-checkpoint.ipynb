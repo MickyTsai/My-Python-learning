{
 "cells": [
  {
   "cell_type": "code",
   "execution_count": 1,
   "metadata": {
    "collapsed": true
   },
   "outputs": [],
   "source": [
    "import tkinter as tk\n",
    "\n",
    "window = tk.Tk()\n",
    "window.title('i am window')\n",
    "window.geometry('250x250')\n",
    "\n",
    "label_1 = tk.Label(window, bg='yellow', text='on the window').pack()\n",
    "\n",
    "#主框架，架在window上\n",
    "frm = tk.Frame(window).pack()\n",
    "#次框架，架在主框架frm上\n",
    "frm_l = tk.Frame(frm)\n",
    "frm_l.pack(side='left')\n",
    "frm_r = tk.Frame(frm)\n",
    "frm_r.pack(side='right')\n",
    "\n",
    "label_2 = tk.Label(frm_l, bg='blue', text='on the frm_l1').pack()\n",
    "label_3 = tk.Label(frm_l, bg='blue', text='on the frm_l2').pack()\n",
    "label_4 = tk.Label(frm_r, bg='green', text='on the frm_r1').pack()\n",
    "\n",
    "window.mainloop()\n",
    "\n"
   ]
  },
  {
   "cell_type": "code",
   "execution_count": null,
   "metadata": {
    "collapsed": true
   },
   "outputs": [],
   "source": []
  }
 ],
 "metadata": {
  "kernelspec": {
   "display_name": "Python [conda root]",
   "language": "python",
   "name": "conda-root-py"
  },
  "language_info": {
   "codemirror_mode": {
    "name": "ipython",
    "version": 3
   },
   "file_extension": ".py",
   "mimetype": "text/x-python",
   "name": "python",
   "nbconvert_exporter": "python",
   "pygments_lexer": "ipython3",
   "version": "3.5.2"
  }
 },
 "nbformat": 4,
 "nbformat_minor": 2
}
