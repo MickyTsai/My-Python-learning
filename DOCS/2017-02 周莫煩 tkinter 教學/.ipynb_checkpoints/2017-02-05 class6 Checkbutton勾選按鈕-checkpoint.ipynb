{
 "cells": [
  {
   "cell_type": "code",
   "execution_count": 1,
   "metadata": {
    "collapsed": false
   },
   "outputs": [],
   "source": [
    "import tkinter as tk\n",
    "\n",
    "window = tk.Tk()\n",
    "window.title('I am window')\n",
    "window.geometry('200x200')\n",
    "\n",
    "label = tk.Label(window, bg='yellow', width=15, height=2, text='empty')\n",
    "label.pack()\n",
    "\n",
    "def print_selection():\n",
    "    if ((var1.get() == 0) and (var2.get() == 0)): #試看看有括弧分開\n",
    "        label.config(text=\"i do not like either\")\n",
    "    elif var1.get() == 1 and var2.get() == 0: #試看看沒括弧\n",
    "        label.config(text='i love Python')\n",
    "    elif var1.get() == 0 and var2.get() == 1:\n",
    "        label.congif(text='i love C++')\n",
    "    else :\n",
    "        label.config(text='i love both')\n",
    "#可見有沒有括弧似乎沒差\n",
    "\n",
    "\n",
    "var1 = tk.IntVar()\n",
    "cb1 = tk.Checkbutton(window, text='Python', variable=var1, onvalue=1, offvalue=0, command=print_selection)\n",
    "cb1.pack()\n",
    "#重點在這裡新多了一種設定值，onvalue和offvalue，而因為設定的值都是整數，所以變數用tk.IntVar()\n",
    "\n",
    "var2 = tk.IntVar()\n",
    "cb2 = tk.Checkbutton(window, text='C++', variable=var2, onvalue=1, offvalue=0, command=print_selection)\n",
    "cb2.pack()\n",
    "\n",
    "window.mainloop()\n"
   ]
  },
  {
   "cell_type": "code",
   "execution_count": null,
   "metadata": {
    "collapsed": true
   },
   "outputs": [],
   "source": []
  }
 ],
 "metadata": {
  "kernelspec": {
   "display_name": "Python [conda root]",
   "language": "python",
   "name": "conda-root-py"
  },
  "language_info": {
   "codemirror_mode": {
    "name": "ipython",
    "version": 3
   },
   "file_extension": ".py",
   "mimetype": "text/x-python",
   "name": "python",
   "nbconvert_exporter": "python",
   "pygments_lexer": "ipython3",
   "version": "3.5.2"
  }
 },
 "nbformat": 4,
 "nbformat_minor": 2
}
