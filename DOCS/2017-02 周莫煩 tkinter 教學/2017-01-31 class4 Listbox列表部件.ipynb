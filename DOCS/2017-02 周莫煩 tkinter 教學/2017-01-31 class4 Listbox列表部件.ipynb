{
 "cells": [
  {
   "cell_type": "markdown",
   "metadata": {},
   "source": [
    "## 創建一個視窗，按鈕可以將列表數值顯示在標籤上\n",
    "1. 視窗結構？\n",
    "2. 有哪些變量？\n"
   ]
  },
  {
   "cell_type": "code",
   "execution_count": 1,
   "metadata": {
    "collapsed": false
   },
   "outputs": [],
   "source": [
    "import tkinter as tk\n",
    "\n",
    "window = tk.Tk()\n",
    "window.title('i am window')\n",
    "window.geometry('300x300')\n",
    "\n",
    "str_var1 = tk.StringVar()\n",
    "l = tk.Label(window, width=6, height=2, textvariable=str_var1, bg='yellow')\n",
    "l.pack()  #時常忘記設定位置\n",
    "\n",
    "def selection():\n",
    "    value = lb.get(lb.curselection())  #.curselection()光棒選擇位置\n",
    "    str_var1.set(value)\n",
    "    \n",
    "b = tk.Button(window, width=15, height=2, text='print selection', command=selection )\n",
    "b.pack()\n",
    "\n",
    "str_var2 = tk.StringVar()\n",
    "str_var2.set(('11','22','33','44')) #先預設列表盒中的list\n",
    "lb = tk.Listbox(window, listvariable=str_var2)\n",
    "lb.pack()\n",
    "\n",
    "#這邊是額外插入listbox的list\n",
    "list_items = ['1','2','3','4']\n",
    "for item in list_items:\n",
    "    lb.insert('end', item)  #是用insert插入\n",
    "    \n",
    "#插入單一數值\n",
    "lb.insert(1, 'first')  #注意：這裡行又從0開始，真詭異\n",
    "\n",
    "#插入一數值後刪除\n",
    "lb.insert(2, 'secend')\n",
    "lb.delete(2)\n",
    "\n",
    "window.mainloop()\n"
   ]
  },
  {
   "cell_type": "code",
   "execution_count": null,
   "metadata": {
    "collapsed": true
   },
   "outputs": [],
   "source": []
  }
 ],
 "metadata": {
  "anaconda-cloud": {},
  "kernelspec": {
   "display_name": "Python [conda root]",
   "language": "python",
   "name": "conda-root-py"
  },
  "language_info": {
   "codemirror_mode": {
    "name": "ipython",
    "version": 3
   },
   "file_extension": ".py",
   "mimetype": "text/x-python",
   "name": "python",
   "nbconvert_exporter": "python",
   "pygments_lexer": "ipython3",
   "version": "3.5.2"
  }
 },
 "nbformat": 4,
 "nbformat_minor": 2
}
