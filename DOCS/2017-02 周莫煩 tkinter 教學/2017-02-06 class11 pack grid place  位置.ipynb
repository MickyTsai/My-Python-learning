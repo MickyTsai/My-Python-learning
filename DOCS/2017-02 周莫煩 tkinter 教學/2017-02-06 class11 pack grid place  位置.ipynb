{
 "cells": [
  {
   "cell_type": "code",
   "execution_count": 1,
   "metadata": {
    "collapsed": false
   },
   "outputs": [],
   "source": [
    "import tkinter as tk\n",
    "\n",
    "window = tk.Tk()\n",
    "window.geometry('200x200')\n",
    "\n",
    "#第一種：pack 方位\n",
    "#tk.Label(window, text=1).pack(side='top')\n",
    "#tk.Label(window, text=1).pack(side='bottom')\n",
    "#tk.Label(window, text=1).pack(side='left')\n",
    "#tk.Label(window, text=1).pack(side='right')\n",
    "\n",
    "\n",
    "#第二種：grid 方格\n",
    "#counter = 0\n",
    "#for i in range(4):\n",
    "    #for j in range(3):\n",
    "        #counter += 1\n",
    "        #tk.Label(window, text=counter).grid(row=i, column=j, padx=10, pady=10) #padx方格x軸外擴展，ipadx方格x軸內收縮\n",
    "\n",
    "#第三種：place 絕對位置\n",
    "tk.Label(window, text='place').place(x=100, y=150, anchor='sw') #設定錨點，再給像素位置\n",
    "\n",
    "\n",
    "window.mainloop()"
   ]
  },
  {
   "cell_type": "code",
   "execution_count": null,
   "metadata": {
    "collapsed": true
   },
   "outputs": [],
   "source": []
  }
 ],
 "metadata": {
  "anaconda-cloud": {},
  "kernelspec": {
   "display_name": "Python [conda root]",
   "language": "python",
   "name": "conda-root-py"
  },
  "language_info": {
   "codemirror_mode": {
    "name": "ipython",
    "version": 3
   },
   "file_extension": ".py",
   "mimetype": "text/x-python",
   "name": "python",
   "nbconvert_exporter": "python",
   "pygments_lexer": "ipython3",
   "version": "3.5.2"
  }
 },
 "nbformat": 4,
 "nbformat_minor": 2
}
