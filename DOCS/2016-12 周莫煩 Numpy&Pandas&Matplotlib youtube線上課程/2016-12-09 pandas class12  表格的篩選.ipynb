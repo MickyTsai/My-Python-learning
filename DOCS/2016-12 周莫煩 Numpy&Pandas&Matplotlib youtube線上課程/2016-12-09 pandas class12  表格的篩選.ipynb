{
 "cells": [
  {
   "cell_type": "code",
   "execution_count": 1,
   "metadata": {
    "collapsed": false
   },
   "outputs": [
    {
     "name": "stdout",
     "output_type": "stream",
     "text": [
      "             A   B   C   D\n",
      "2016-12-09   0   1   2   3\n",
      "2016-12-10   4   5   6   7\n",
      "2016-12-11   8   9  10  11\n",
      "2016-12-12  12  13  14  15\n",
      "2016-12-13  16  17  18  19\n",
      "2016-12-14  20  21  22  23\n"
     ]
    }
   ],
   "source": [
    "import pandas as pd\n",
    "import numpy as np\n",
    "\n",
    "dates = pd.date_range('20161209',periods=6)\n",
    "df = pd.DataFrame(np.arange(24).reshape((6,4)),index=dates,columns=['A','B','C','D'])\n",
    "print(df)"
   ]
  },
  {
   "cell_type": "code",
   "execution_count": 2,
   "metadata": {
    "collapsed": false
   },
   "outputs": [
    {
     "name": "stdout",
     "output_type": "stream",
     "text": [
      "2016-12-09     0\n",
      "2016-12-10     4\n",
      "2016-12-11     8\n",
      "2016-12-12    12\n",
      "2016-12-13    16\n",
      "2016-12-14    20\n",
      "Freq: D, Name: A, dtype: int64\n",
      "---------------------------------------\n",
      "2016-12-09     0\n",
      "2016-12-10     4\n",
      "2016-12-11     8\n",
      "2016-12-12    12\n",
      "2016-12-13    16\n",
      "2016-12-14    20\n",
      "Freq: D, Name: A, dtype: int64\n",
      "---------------------------------------\n",
      "            A  B   C   D\n",
      "2016-12-09  0  1   2   3\n",
      "2016-12-10  4  5   6   7\n",
      "2016-12-11  8  9  10  11\n",
      "---------------------------------------\n",
      "             A   B   C   D\n",
      "2016-12-12  12  13  14  15\n",
      "2016-12-13  16  17  18  19\n",
      "2016-12-14  20  21  22  23\n"
     ]
    }
   ],
   "source": [
    "print(df.A) \n",
    "print('---------------------------------------')\n",
    "print(df['A'])\n",
    "print('---------------------------------------')\n",
    "print(df[0:3])\n",
    "print('---------------------------------------')\n",
    "print(df['20161212':'20161214'])"
   ]
  },
  {
   "cell_type": "code",
   "execution_count": 2,
   "metadata": {
    "collapsed": false
   },
   "outputs": [
    {
     "name": "stdout",
     "output_type": "stream",
     "text": [
      "A    4\n",
      "B    5\n",
      "C    6\n",
      "D    7\n",
      "Name: 2016-12-10 00:00:00, dtype: int64\n",
      "-------------------------------------\n",
      "             D   A\n",
      "2016-12-09   3   0\n",
      "2016-12-10   7   4\n",
      "2016-12-11  11   8\n",
      "2016-12-12  15  12\n",
      "2016-12-13  19  16\n",
      "2016-12-14  23  20\n",
      "-------------------------------------\n",
      "C    6\n",
      "A    4\n",
      "Name: 2016-12-10 00:00:00, dtype: int64\n"
     ]
    }
   ],
   "source": [
    "#select by lebel = loc 純標籤篩選，數字無法\n",
    "\n",
    "print(df.loc['20161210'])  \n",
    "print('-------------------------------------')\n",
    "print(df.loc[:,['D','A']])\n",
    "print('-------------------------------------')\n",
    "print(df.loc['20161210',['C','A']])"
   ]
  },
  {
   "cell_type": "code",
   "execution_count": 55,
   "metadata": {
    "collapsed": false
   },
   "outputs": [
    {
     "name": "stdout",
     "output_type": "stream",
     "text": [
      "A    12\n",
      "B    13\n",
      "C    14\n",
      "D    15\n",
      "Name: 2016-12-12 00:00:00, dtype: int64\n",
      "2016-12-09    3\n",
      "2016-12-10    7\n",
      "Freq: D, Name: D, dtype: int64\n",
      "C    6\n",
      "D    7\n",
      "Name: 2016-12-10 00:00:00, dtype: int64\n",
      "             C   D\n",
      "2016-12-09   2   3\n",
      "2016-12-10   6   7\n",
      "2016-12-11  10  11\n"
     ]
    }
   ],
   "source": [
    "#select by position = iloc 純數字（位置）篩選，標籤無法\n",
    "\n",
    "print(df.iloc[3])\n",
    "print(df.iloc[0:2,3])\n",
    "print(df.iloc[1,2:5])\n",
    "print(df.iloc[0:3,2:4])\n"
   ]
  },
  {
   "cell_type": "code",
   "execution_count": 62,
   "metadata": {
    "collapsed": false
   },
   "outputs": [
    {
     "name": "stdout",
     "output_type": "stream",
     "text": [
      "A    12\n",
      "Name: 2016-12-12 00:00:00, dtype: int64\n",
      "10\n",
      "             A   B   C   D\n",
      "2016-12-09   0   1   2   3\n",
      "2016-12-10   4   5   6   7\n",
      "2016-12-11   8   9  10  11\n",
      "2016-12-12  12  13  14  15\n",
      "2016-12-13  16  17  18  19\n",
      "2016-12-14  20  21  22  23\n",
      "17\n",
      "             C   D\n",
      "2016-12-10   6   7\n",
      "2016-12-11  10  11\n"
     ]
    }
   ],
   "source": [
    "# mixed selection = ix  (最好用)\n",
    "\n",
    "print(df.ix[3,['A']])\n",
    "print(df.ix['20161211',2])\n",
    "print(df)\n",
    "print(df.ix[4,1])\n",
    "print(df.ix[1:3,2:5])"
   ]
  },
  {
   "cell_type": "code",
   "execution_count": 69,
   "metadata": {
    "collapsed": false
   },
   "outputs": [
    {
     "name": "stdout",
     "output_type": "stream",
     "text": [
      "             A   B   C   D\n",
      "2016-12-11   8   9  10  11\n",
      "2016-12-12  12  13  14  15\n",
      "2016-12-13  16  17  18  19\n",
      "2016-12-14  20  21  22  23\n",
      "             A   B   C   D\n",
      "2016-12-11   8   9  10  11\n",
      "2016-12-12  12  13  14  15\n",
      "2016-12-13  16  17  18  19\n"
     ]
    },
    {
     "name": "stderr",
     "output_type": "stream",
     "text": [
      "//anaconda/lib/python3.5/site-packages/ipykernel/__main__.py:3: UserWarning: Boolean Series key will be reindexed to match DataFrame index.\n",
      "  app.launch_new_instance()\n"
     ]
    }
   ],
   "source": [
    "# Boolean indexing 條件式篩選\n",
    "print(df[df.A >5])\n",
    "print(df[df.A >=8][df.A <20])  #還不知道這錯誤啥意義，以後再查"
   ]
  },
  {
   "cell_type": "code",
   "execution_count": null,
   "metadata": {
    "collapsed": true
   },
   "outputs": [],
   "source": []
  }
 ],
 "metadata": {
  "anaconda-cloud": {},
  "kernelspec": {
   "display_name": "Python [conda root]",
   "language": "python",
   "name": "conda-root-py"
  },
  "language_info": {
   "codemirror_mode": {
    "name": "ipython",
    "version": 3
   },
   "file_extension": ".py",
   "mimetype": "text/x-python",
   "name": "python",
   "nbconvert_exporter": "python",
   "pygments_lexer": "ipython3",
   "version": "3.5.2"
  }
 },
 "nbformat": 4,
 "nbformat_minor": 1
}
