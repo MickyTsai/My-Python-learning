{
 "cells": [
  {
   "cell_type": "code",
   "execution_count": null,
   "metadata": {
    "collapsed": true
   },
   "outputs": [],
   "source": [
    "import numpy as np\n",
    "array = np.array([[1,2,3],[3,4,5]])\n",
    "print(array)\n",
    "print('number of dim:',array.ndim)  #查詢維度＃\n",
    "print('shape:',array.shape) #行，列各是多少＃\n",
    "print('size:',array.size) "
   ]
  },
  {
   "cell_type": "code",
   "execution_count": 4,
   "metadata": {
    "collapsed": false
   },
   "outputs": [
    {
     "name": "stdout",
     "output_type": "stream",
     "text": [
      "[55 63 75]\n",
      "int64\n"
     ]
    }
   ],
   "source": [
    "a = np.array([55,63,75],dtype=np.int)\n",
    "print(a)\n",
    "print(a.dtype)"
   ]
  },
  {
   "cell_type": "code",
   "execution_count": 6,
   "metadata": {
    "collapsed": false
   },
   "outputs": [
    {
     "name": "stdout",
     "output_type": "stream",
     "text": [
      "[[ 0.  0.  0.]\n",
      " [ 0.  0.  0.]\n",
      " [ 0.  0.  0.]]\n",
      "[[ 1.  1.  1.  1.]\n",
      " [ 1.  1.  1.  1.]\n",
      " [ 1.  1.  1.  1.]\n",
      " [ 1.  1.  1.  1.]]\n"
     ]
    }
   ],
   "source": [
    "zero = np.zeros((3,3))\n",
    "print(zero)\n",
    "one = np.ones((4,4))\n",
    "print(one)"
   ]
  },
  {
   "cell_type": "code",
   "execution_count": 10,
   "metadata": {
    "collapsed": false
   },
   "outputs": [
    {
     "name": "stdout",
     "output_type": "stream",
     "text": [
      "[[ 0  1  2  3  4]\n",
      " [ 5  6  7  8  9]\n",
      " [10 11 12 13 14]\n",
      " [15 16 17 18 19]]\n"
     ]
    }
   ],
   "source": [
    "r = np.arange(20).reshape((4,5))\n",
    "print(r)"
   ]
  },
  {
   "cell_type": "code",
   "execution_count": 12,
   "metadata": {
    "collapsed": false
   },
   "outputs": [
    {
     "name": "stdout",
     "output_type": "stream",
     "text": [
      "[ 1.          2.66666667  4.33333333  6.        ]\n",
      "[[ 1.          2.66666667]\n",
      " [ 4.33333333  6.        ]]\n"
     ]
    }
   ],
   "source": [
    "l = np.linspace(1,6,4) #一段“起始”到“結束-1”之中切“幾段”＃\n",
    "lrs = np.linspace(1,6,4).reshape(2,2)\n",
    "print(l)\n",
    "print(lrs)"
   ]
  },
  {
   "cell_type": "code",
   "execution_count": 25,
   "metadata": {
    "collapsed": false
   },
   "outputs": [
    {
     "name": "stdout",
     "output_type": "stream",
     "text": [
      "[[0 2]\n",
      " [4 9]]\n",
      "[[ 4  7]\n",
      " [ 6 11]]\n",
      "[[ 4  7]\n",
      " [ 6 11]]\n"
     ]
    }
   ],
   "source": [
    "b = np.array([[1,2],\n",
    "              [2,3]])\n",
    "c = np.arange(4).reshape((2,2))\n",
    "\n",
    "d = b*c\n",
    "print(d)\n",
    "d_dot = np.dot(b,c)\n",
    "d_dot_2 = b.dot(c)   #意義ㄧ樣 不同表示＃\n",
    "print(d_dot)\n",
    "print(d_dot_2)"
   ]
  },
  {
   "cell_type": "code",
   "execution_count": 24,
   "metadata": {
    "collapsed": false
   },
   "outputs": [
    {
     "name": "stdout",
     "output_type": "stream",
     "text": [
      "[[ 0.21452188  0.20153535  0.02131264  0.84691527]\n",
      " [ 0.85860429  0.70681517  0.19088426  0.47168606]]\n",
      "3.51227492113\n",
      "0.021312637296\n",
      "0.858604291709\n",
      "[ 1.07312617  0.90835052  0.2121969   1.31860132]\n",
      "[ 0.02131264  0.19088426]\n",
      "[ 0.84691527  0.85860429]\n"
     ]
    }
   ],
   "source": [
    "r = np.random.random((2,4))\n",
    "print(r)\n",
    "print(np.sum(r))\n",
    "print(np.min(r))\n",
    "print(np.max(r))\n",
    "print(np.sum(r,axis=0)) #各”列“總和＃\n",
    "print(np.min(r,axis=1)) #各“行”找最小值＃\n",
    "print(np.max(r,axis=1)) #各“行”找最大值＃"
   ]
  },
  {
   "cell_type": "code",
   "execution_count": 38,
   "metadata": {
    "collapsed": false
   },
   "outputs": [
    {
     "name": "stdout",
     "output_type": "stream",
     "text": [
      "[[ 2  3  4  5]\n",
      " [ 6  7  8  9]\n",
      " [10 11 12 13]]\n",
      "0\n",
      "11\n",
      "7.5\n",
      "7.5\n",
      "[ 2  5  9 14 20 27 35 44 54 65 77 90]\n",
      "[[1 1 1]\n",
      " [1 1 1]\n",
      " [1 1 1]]\n",
      "[[ 2  6 10]\n",
      " [ 3  7 11]\n",
      " [ 4  8 12]\n",
      " [ 5  9 13]]\n",
      "[[ 2  6 10]\n",
      " [ 3  7 11]\n",
      " [ 4  8 12]\n",
      " [ 5  9 13]]\n",
      "[[5 5 5 5]\n",
      " [6 7 8 9]\n",
      " [9 9 9 9]]\n"
     ]
    }
   ],
   "source": [
    "A = np.arange(2,14).reshape((3,4))\n",
    "print(A)\n",
    "print(np.argmin(A)) #最小值的索引位置＃\n",
    "print(np.argmax(A))\n",
    "print(np.median(A)) #中位數＃\n",
    "print(np.mean(A)) #總平均值＃\n",
    "\n",
    "print(np.cumsum(A)) #每個索引位置成為前面所有索引位置累加值#\n",
    "print(np.diff(A)) #矩陣值為跟前一個索引值的差＃\n",
    "\n",
    "print(np.transpose(A)) #行列位置交換＃ #常用＃\n",
    "print(A.T)\n",
    "\n",
    "print(np.clip(A,5,9)) #A矩陣中，低於五都變成五，高於九都變成九＃\n"
   ]
  },
  {
   "cell_type": "code",
   "execution_count": null,
   "metadata": {
    "collapsed": true
   },
   "outputs": [],
   "source": []
  }
 ],
 "metadata": {
  "anaconda-cloud": {},
  "kernelspec": {
   "display_name": "Python [conda root]",
   "language": "python",
   "name": "conda-root-py"
  },
  "language_info": {
   "codemirror_mode": {
    "name": "ipython",
    "version": 3
   },
   "file_extension": ".py",
   "mimetype": "text/x-python",
   "name": "python",
   "nbconvert_exporter": "python",
   "pygments_lexer": "ipython3",
   "version": "3.5.2"
  }
 },
 "nbformat": 4,
 "nbformat_minor": 1
}
