{
 "cells": [
  {
   "cell_type": "code",
   "execution_count": 1,
   "metadata": {
    "collapsed": false
   },
   "outputs": [
    {
     "name": "stdout",
     "output_type": "stream",
     "text": [
      "[[ 2  3  4  5]\n",
      " [ 6  7  8  9]\n",
      " [10 11 12 13]]\n",
      "-------------------------\n",
      "[6 7 8 9]\n",
      "-------------------------\n",
      "13\n",
      "-------------------------\n",
      "13\n",
      "-------------------------\n",
      "[10 11 12 13]\n",
      "-------------------------\n",
      "[7 8]\n"
     ]
    }
   ],
   "source": [
    "import numpy as np\n",
    "\n",
    "A = np.arange(2,14).reshape((3,4))\n",
    "print(A)\n",
    "print('-------------------------')\n",
    "print(A[1]) #輸出第1“行”＃\n",
    "print('-------------------------')\n",
    "print(A[2][3])\n",
    "print('-------------------------')\n",
    "print(A[2,3])\n",
    "print('-------------------------')\n",
    "print(A[2,:])\n",
    "print('-------------------------')\n",
    "print(A[1,1:3])"
   ]
  },
  {
   "cell_type": "code",
   "execution_count": 2,
   "metadata": {
    "collapsed": false
   },
   "outputs": [
    {
     "name": "stdout",
     "output_type": "stream",
     "text": [
      "[2 3 4 5]\n",
      "-------------------------\n",
      "[6 7 8 9]\n",
      "-------------------------\n",
      "[10 11 12 13]\n",
      "-------------------------\n"
     ]
    }
   ],
   "source": [
    "# 矩陣的迴圈（行）\n",
    "\n",
    "for row in A:\n",
    "    print(row)\n",
    "    print('-------------------------')"
   ]
  },
  {
   "cell_type": "code",
   "execution_count": 3,
   "metadata": {
    "collapsed": false
   },
   "outputs": [
    {
     "name": "stdout",
     "output_type": "stream",
     "text": [
      "[ 2  6 10]\n",
      "-------------------------\n",
      "[ 3  7 11]\n",
      "-------------------------\n",
      "[ 4  8 12]\n",
      "-------------------------\n",
      "[ 5  9 13]\n",
      "-------------------------\n"
     ]
    }
   ],
   "source": [
    "# 矩陣的迴圈（列）\n",
    "\n",
    "for column in A.T:  #為了迭代“列”，先用A.T將行列翻轉在迭代＃\n",
    "    print(column)\n",
    "    print('-------------------------')"
   ]
  },
  {
   "cell_type": "code",
   "execution_count": 16,
   "metadata": {
    "collapsed": false
   },
   "outputs": [
    {
     "name": "stdout",
     "output_type": "stream",
     "text": [
      "[ 2  3  4  5  6  7  8  9 10 11 12 13]\n",
      "2\n",
      "3\n",
      "4\n",
      "5\n",
      "6\n",
      "7\n",
      "8\n",
      "9\n",
      "10\n",
      "11\n",
      "12\n",
      "13\n"
     ]
    }
   ],
   "source": [
    "A_flat = A.flatten() #先將矩陣打散,flat輸出是個object＃\n",
    "print(A_flat)\n",
    "for item in A.flat:\n",
    "    print(item)"
   ]
  },
  {
   "cell_type": "code",
   "execution_count": null,
   "metadata": {
    "collapsed": true
   },
   "outputs": [],
   "source": []
  }
 ],
 "metadata": {
  "anaconda-cloud": {},
  "kernelspec": {
   "display_name": "Python [conda root]",
   "language": "python",
   "name": "conda-root-py"
  },
  "language_info": {
   "codemirror_mode": {
    "name": "ipython",
    "version": 3
   },
   "file_extension": ".py",
   "mimetype": "text/x-python",
   "name": "python",
   "nbconvert_exporter": "python",
   "pygments_lexer": "ipython3",
   "version": "3.5.2"
  }
 },
 "nbformat": 4,
 "nbformat_minor": 1
}
