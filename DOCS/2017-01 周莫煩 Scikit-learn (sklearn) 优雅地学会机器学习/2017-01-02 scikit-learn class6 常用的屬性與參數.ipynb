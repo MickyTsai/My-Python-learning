{
 "cells": [
  {
   "cell_type": "code",
   "execution_count": 2,
   "metadata": {
    "collapsed": false
   },
   "outputs": [
    {
     "data": {
      "text/plain": [
       "LinearRegression(copy_X=True, fit_intercept=True, n_jobs=1, normalize=False)"
      ]
     },
     "execution_count": 2,
     "metadata": {},
     "output_type": "execute_result"
    }
   ],
   "source": [
    "from sklearn import datasets\n",
    "from sklearn.linear_model import LinearRegression\n",
    "\n",
    "boston = datasets.load_boston()\n",
    "boston_X = boston.data\n",
    "boston_y = boston.target\n",
    "\n",
    "model = LinearRegression()\n",
    "model.fit(boston_X,boston_y)\n"
   ]
  },
  {
   "cell_type": "markdown",
   "metadata": {},
   "source": [
    "## model中的常用屬性與參數\n",
    "\n",
    "**model.coef_**:每個X套入模型後給的係數 ex: y=0.1(X1).0.88(X2)+0.4 中的0.1和0.88  \n",
    "**model.intercept_**: x皆為0時的y  \n",
    "**model.get_params**:  model的參數  \n",
    "**model.score**: 模型準確率"
   ]
  },
  {
   "cell_type": "code",
   "execution_count": 6,
   "metadata": {
    "collapsed": false
   },
   "outputs": [
    {
     "name": "stdout",
     "output_type": "stream",
     "text": [
      "[ -1.07170557e-01   4.63952195e-02   2.08602395e-02   2.68856140e+00\n",
      "  -1.77957587e+01   3.80475246e+00   7.51061703e-04  -1.47575880e+00\n",
      "   3.05655038e-01  -1.23293463e-02  -9.53463555e-01   9.39251272e-03\n",
      "  -5.25466633e-01]\n",
      "----------------------------------------\n",
      "36.4911032804\n",
      "----------------------------------------\n",
      "{'normalize': False, 'fit_intercept': True, 'n_jobs': 1, 'copy_X': True}\n",
      "----------------------------------------\n",
      "0.740607742865\n"
     ]
    }
   ],
   "source": [
    "print(model.coef_)\n",
    "print('----------------------------------------')\n",
    "print(model.intercept_)\n",
    "print('----------------------------------------')\n",
    "print(model.get_params())\n",
    "print('----------------------------------------')\n",
    "print(model.score(boston_X,boston_y))"
   ]
  },
  {
   "cell_type": "code",
   "execution_count": null,
   "metadata": {
    "collapsed": true
   },
   "outputs": [],
   "source": []
  }
 ],
 "metadata": {
  "anaconda-cloud": {},
  "kernelspec": {
   "display_name": "Python [conda root]",
   "language": "python",
   "name": "conda-root-py"
  },
  "language_info": {
   "codemirror_mode": {
    "name": "ipython",
    "version": 3
   },
   "file_extension": ".py",
   "mimetype": "text/x-python",
   "name": "python",
   "nbconvert_exporter": "python",
   "pygments_lexer": "ipython3",
   "version": "3.5.2"
  }
 },
 "nbformat": 4,
 "nbformat_minor": 1
}
