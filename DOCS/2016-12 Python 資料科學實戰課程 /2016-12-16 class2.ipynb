{
 "cells": [
  {
   "cell_type": "code",
   "execution_count": 1,
   "metadata": {
    "collapsed": false
   },
   "outputs": [
    {
     "ename": "TypeError",
     "evalue": "can't multiply sequence by non-int of type 'float'",
     "output_type": "error",
     "traceback": [
      "\u001b[0;31m---------------------------------------------------------------------------\u001b[0m",
      "\u001b[0;31mTypeError\u001b[0m                                 Traceback (most recent call last)",
      "\u001b[0;32m<ipython-input-1-a5b79ce1784d>\u001b[0m in \u001b[0;36m<module>\u001b[0;34m()\u001b[0m\n\u001b[1;32m      2\u001b[0m \u001b[0mkm_list\u001b[0m \u001b[0;34m=\u001b[0m \u001b[0;34m[\u001b[0m\u001b[0;36m21\u001b[0m\u001b[0;34m,\u001b[0m\u001b[0;36m42.195\u001b[0m\u001b[0;34m]\u001b[0m\u001b[0;34m\u001b[0m\u001b[0m\n\u001b[1;32m      3\u001b[0m \u001b[0mkm_to_mile\u001b[0m \u001b[0;34m=\u001b[0m \u001b[0;36m0.6221371192\u001b[0m\u001b[0;34m\u001b[0m\u001b[0m\n\u001b[0;32m----> 4\u001b[0;31m \u001b[0mprint\u001b[0m\u001b[0;34m(\u001b[0m\u001b[0mkm_list\u001b[0m \u001b[0;34m*\u001b[0m \u001b[0mkm_to_mile\u001b[0m\u001b[0;34m)\u001b[0m\u001b[0;34m\u001b[0m\u001b[0m\n\u001b[0m",
      "\u001b[0;31mTypeError\u001b[0m: can't multiply sequence by non-int of type 'float'"
     ]
    }
   ],
   "source": [
    "#因 平常python無法處理類似 element wise的問題 例如:\n",
    "\n",
    "km_list = [21,42.195]\n",
    "km_to_mile = 0.6221371192\n",
    "print(km_list * km_to_mile) #會出錯"
   ]
  },
  {
   "cell_type": "code",
   "execution_count": 2,
   "metadata": {
    "collapsed": false
   },
   "outputs": [
    {
     "name": "stdout",
     "output_type": "stream",
     "text": [
      "<class 'numpy.ndarray'>\n",
      "[ 13.0648795   26.25107574]\n"
     ]
    }
   ],
   "source": [
    "#所以使用ndarray\n",
    "\n",
    "import numpy as np\n",
    "km_array = np.array(km_list)\n",
    "print(type(km_array))\n",
    "print(km_array * km_to_mile)"
   ]
  },
  {
   "cell_type": "code",
   "execution_count": 15,
   "metadata": {
    "collapsed": false
   },
   "outputs": [
    {
     "name": "stdout",
     "output_type": "stream",
     "text": [
      "['1' 'True' 'hi']\n",
      "<U21\n"
     ]
    }
   ],
   "source": [
    "#ndarray只容許一種資料類型\n",
    "\n",
    "my_np_array = np.array([1,True,\"hi\"])\n",
    "print(my_np_array)\n",
    "print(my_np_array.dtype)   #U21是array中的文字類型"
   ]
  },
  {
   "cell_type": "code",
   "execution_count": 42,
   "metadata": {
    "collapsed": false
   },
   "outputs": [
    {
     "name": "stdout",
     "output_type": "stream",
     "text": [
      "{'age': [19, 21, 20, 19, 21, 17, 30, 36, 90], 'name': ['Monkey D. Luffy', 'Roronoa Zoro', 'Nami', 'Usopp', 'Vinsmoke Sanji', 'Tony Tony Chopper', 'Nico Robin', 'Franky', 'Brook']}\n",
      "-------------------------\n",
      "<class 'pandas.core.frame.DataFrame'>\n",
      "-------------------------\n",
      "   age               name\n",
      "0   19    Monkey D. Luffy\n",
      "1   21       Roronoa Zoro\n",
      "2   20               Nami\n",
      "3   19              Usopp\n",
      "4   21     Vinsmoke Sanji\n",
      "5   17  Tony Tony Chopper\n",
      "6   30         Nico Robin\n",
      "7   36             Franky\n",
      "8   90              Brook\n"
     ]
    }
   ],
   "source": [
    "#字典型態轉為DataFrame\n",
    "\n",
    "import pandas as pd\n",
    "name = [\"Monkey D. Luffy\", \"Roronoa Zoro\", \"Nami\", \"Usopp\", \"Vinsmoke Sanji\", \"Tony Tony Chopper\", \"Nico Robin\", \"Franky\", \"Brook\"]\n",
    "age = [19, 21, 20, 19, 21, 17, 30, 36, 90]\n",
    "\n",
    "straw_hat_dict = {\"name\": name,\n",
    "                  \"age\": age}\n",
    "print(straw_hat_dict)\n",
    "print('-------------------------')\n",
    "straw_hat_df = pd.DataFrame(straw_hat_dict)\n",
    "print(type(straw_hat_df))\n",
    "print('-------------------------')\n",
    "print(straw_hat_df)"
   ]
  },
  {
   "cell_type": "code",
   "execution_count": 39,
   "metadata": {
    "collapsed": false
   },
   "outputs": [
    {
     "name": "stdout",
     "output_type": "stream",
     "text": [
      "1      Roronoa Zoro\n",
      "2              Nami\n",
      "4    Vinsmoke Sanji\n",
      "6        Nico Robin\n",
      "7            Franky\n",
      "8             Brook\n",
      "Name: name, dtype: object\n",
      "-------------------------\n",
      "0    False\n",
      "1     True\n",
      "2     True\n",
      "3    False\n",
      "4     True\n",
      "5    False\n",
      "6     True\n",
      "7     True\n",
      "8     True\n",
      "Name: age, dtype: bool\n",
      "-------------------------\n",
      "   age            name\n",
      "1   21    Roronoa Zoro\n",
      "2   20            Nami\n",
      "4   21  Vinsmoke Sanji\n",
      "6   30      Nico Robin\n",
      "7   36          Franky\n",
      "8   90           Brook\n"
     ]
    }
   ],
   "source": [
    "#在 name表格中 篩出 條件 age欄位中>19的\n",
    "\n",
    "straw_19up = straw_hat_df.name[straw_hat_df.age>19]\n",
    "print(straw_19up)\n",
    "print('-------------------------')\n",
    "print(straw_hat_df.age>19)\n",
    "print('-------------------------')\n",
    "print(straw_hat_df[straw_hat_df.age>19])"
   ]
  },
  {
   "cell_type": "code",
   "execution_count": 40,
   "metadata": {
    "collapsed": false
   },
   "outputs": [
    {
     "name": "stdout",
     "output_type": "stream",
     "text": [
      "0     True\n",
      "1     True\n",
      "2     True\n",
      "3     True\n",
      "4     True\n",
      "5     True\n",
      "6     True\n",
      "7    False\n",
      "8    False\n",
      "Name: age, dtype: bool\n",
      "-------------------------\n",
      "   age               name\n",
      "0   19    Monkey D. Luffy\n",
      "1   21       Roronoa Zoro\n",
      "2   20               Nami\n",
      "3   19              Usopp\n",
      "4   21     Vinsmoke Sanji\n",
      "5   17  Tony Tony Chopper\n",
      "6   30         Nico Robin\n"
     ]
    }
   ],
   "source": [
    "# 先布林判斷，在篩出表格\n",
    "\n",
    "filter = straw_hat_df.ix[:, \"age\"] <= 30\n",
    "print(filter)\n",
    "print('-------------------------')\n",
    "print(straw_hat_df[filter])"
   ]
  },
  {
   "cell_type": "code",
   "execution_count": 45,
   "metadata": {
    "collapsed": false
   },
   "outputs": [
    {
     "name": "stdout",
     "output_type": "stream",
     "text": [
      "5050\n",
      "100\n"
     ]
    }
   ],
   "source": [
    "# for迴圈 不帶索引值的寫法\n",
    "\n",
    "one_to_hundred_list = range(1, 101)\n",
    "summation = 0\n",
    "\n",
    "for i in one_to_hundred_list:\n",
    "    summation += i\n",
    "\n",
    "print(summation)\n",
    "print(i)"
   ]
  },
  {
   "cell_type": "code",
   "execution_count": 48,
   "metadata": {
    "collapsed": false
   },
   "outputs": [
    {
     "name": "stdout",
     "output_type": "stream",
     "text": [
      "5050\n",
      "99\n"
     ]
    }
   ],
   "source": [
    "# 帶索引值的寫法\n",
    "one_to_hundred_list = range(1, 101)\n",
    "summation = 0\n",
    "\n",
    "for i in range(len(one_to_hundred_list)):\n",
    "        summation += one_to_hundred_list[i]\n",
    "\n",
    "print(summation)\n",
    "print(i)"
   ]
  },
  {
   "cell_type": "code",
   "execution_count": null,
   "metadata": {
    "collapsed": true
   },
   "outputs": [],
   "source": []
  }
 ],
 "metadata": {
  "anaconda-cloud": {},
  "kernelspec": {
   "display_name": "Python [conda root]",
   "language": "python",
   "name": "conda-root-py"
  },
  "language_info": {
   "codemirror_mode": {
    "name": "ipython",
    "version": 3
   },
   "file_extension": ".py",
   "mimetype": "text/x-python",
   "name": "python",
   "nbconvert_exporter": "python",
   "pygments_lexer": "ipython3",
   "version": "3.5.2"
  }
 },
 "nbformat": 4,
 "nbformat_minor": 1
}
