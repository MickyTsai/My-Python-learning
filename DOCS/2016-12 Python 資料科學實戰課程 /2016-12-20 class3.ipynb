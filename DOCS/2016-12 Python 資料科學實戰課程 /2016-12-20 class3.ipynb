{
 "cells": [
  {
   "cell_type": "code",
   "execution_count": 1,
   "metadata": {
    "collapsed": false
   },
   "outputs": [
    {
     "name": "stdout",
     "output_type": "stream",
     "text": [
      "5050\n",
      "100\n"
     ]
    }
   ],
   "source": [
    "one_to_hundred_list = range(1, 101)\n",
    "summation = 0\n",
    "\n",
    "for i in one_to_hundred_list:\n",
    "    summation += i\n",
    "\n",
    "print(summation)\n",
    "print(i)"
   ]
  },
  {
   "cell_type": "code",
   "execution_count": 6,
   "metadata": {
    "collapsed": false
   },
   "outputs": [
    {
     "name": "stdout",
     "output_type": "stream",
     "text": [
      "[1, 2, 3, 4, 5, 6, 7, 8, 9, 10, 11, 12, 13, 14, 15, 16, 17, 18, 19, 20, 21, 22, 23, 24, 25, 26, 27, 28, 29, 30, 31, 32, 33, 34, 35, 36, 37, 38, 39, 40, 41, 42, 43, 44, 45, 46, 47, 48, 49, 50, 51, 52, 53, 54, 55, 56, 57, 58, 59, 60, 61, 62, 63, 64, 65, 66, 67, 68, 69, 70, 71, 72, 73, 74, 75, 76, 77, 78, 79, 80, 81, 82, 83, 84, 85, 86, 87, 88, 89, 90, 91, 92, 93, 94, 95, 96, 97, 98, 99, 100]\n",
      "100\n",
      "[0, 1, 2, 3, 4, 5, 6, 7, 8, 9, 10, 11, 12, 13, 14, 15, 16, 17, 18, 19, 20, 21, 22, 23, 24, 25, 26, 27, 28, 29, 30, 31, 32, 33, 34, 35, 36, 37, 38, 39, 40, 41, 42, 43, 44, 45, 46, 47, 48, 49, 50, 51, 52, 53, 54, 55, 56, 57, 58, 59, 60, 61, 62, 63, 64, 65, 66, 67, 68, 69, 70, 71, 72, 73, 74, 75, 76, 77, 78, 79, 80, 81, 82, 83, 84, 85, 86, 87, 88, 89, 90, 91, 92, 93, 94, 95, 96, 97, 98, 99]\n"
     ]
    }
   ],
   "source": [
    "one_to_hundred_list = range(1, 101) \n",
    "print(list(one_to_hundred_list)) #這是索引值對應的值\n",
    "print(len(one_to_hundred_list))\n",
    "print(list(range(len(one_to_hundred_list)))) #這是索引值"
   ]
  },
  {
   "cell_type": "code",
   "execution_count": 7,
   "metadata": {
    "collapsed": false
   },
   "outputs": [
    {
     "name": "stdout",
     "output_type": "stream",
     "text": [
      "10100\n",
      "99\n"
     ]
    }
   ],
   "source": [
    "for i in range(len(one_to_hundred_list)):\n",
    "        summation += one_to_hundred_list[i]  #要用[]中括號，因為是索引值\n",
    "\n",
    "print(summation)\n",
    "print(i)"
   ]
  },
  {
   "cell_type": "code",
   "execution_count": 9,
   "metadata": {
    "collapsed": false
   },
   "outputs": [
    {
     "name": "stdout",
     "output_type": "stream",
     "text": [
      "3.141592653589793\n"
     ]
    }
   ],
   "source": [
    "import math \n",
    "print(math.pi)"
   ]
  },
  {
   "cell_type": "code",
   "execution_count": 10,
   "metadata": {
    "collapsed": false
   },
   "outputs": [
    {
     "name": "stdout",
     "output_type": "stream",
     "text": [
      "(28.274333882308138, 18.84955592153876)\n"
     ]
    }
   ],
   "source": [
    "# 定義自訂函數\n",
    "def circle_calculate(radius):\n",
    "    '依據輸入的半徑同時計算並回傳圓形的面積或周長' # 單行的 docstring\n",
    "    circle_area = math.pi * radius**2\n",
    "    circle_circum = 2 * math.pi * radius\n",
    "    return circle_area, circle_circum\n",
    "\n",
    "# 呼叫自訂函數\n",
    "my_radius = 3\n",
    "print(circle_calculate(my_radius))"
   ]
  },
  {
   "cell_type": "code",
   "execution_count": 11,
   "metadata": {
    "collapsed": false
   },
   "outputs": [
    {
     "name": "stdout",
     "output_type": "stream",
     "text": [
      "5.5\n"
     ]
    }
   ],
   "source": [
    "#巢狀函數\n",
    "#在函數裡面嵌入函數\n",
    "#舉例來說一個計算平均數的函數裡面應該要包含兩個函數：\n",
    "#一個是計算總和的函數 my_sum()\n",
    "#一個是計算個數的函數 my_length()\n",
    "# 定義自訂函數\n",
    "def my_mean(input_list):\n",
    "    '計算平均數' # docstrings\n",
    "    def my_sum(input_list):\n",
    "        '計算總和'\n",
    "        temp_sum = 0\n",
    "        for i in input_list:\n",
    "            temp_sum += i\n",
    "        return temp_sum\n",
    "    def my_length(input_list):\n",
    "        '計算個數'\n",
    "        temp_length = 0\n",
    "        for i in input_list:\n",
    "            temp_length += 1\n",
    "        return temp_length\n",
    "    return my_sum(input_list) / my_length(input_list)\n",
    "\n",
    "# 呼叫自訂函數\n",
    "one_to_10 = range(1, 11)\n",
    "print(my_mean(one_to_10))"
   ]
  },
  {
   "cell_type": "code",
   "execution_count": 12,
   "metadata": {
    "collapsed": false
   },
   "outputs": [
    {
     "name": "stdout",
     "output_type": "stream",
     "text": [
      "蒙其·D·魯夫 兩年前是 17 歲。\n"
     ]
    }
   ],
   "source": [
    "class Strawhat:\n",
    "    '''\n",
    "    這是一個叫做 Strawhat 的類別\n",
    "    '''\n",
    "    def __init__(self, name, age):\n",
    "        self.name = name\n",
    "        self.age = age\n",
    "\n",
    "    def print_age_2_yr_ago(self):\n",
    "        age_2_yr_age = self.age - 2\n",
    "        print(self.name, \"兩年前是\", age_2_yr_age, \"歲。\")\n",
    "\n",
    "# 根據 Strawhat 類別建立物件\n",
    "luffy = Strawhat(\"蒙其·D·魯夫\", 19)\n",
    "\n",
    "# 使用 luffy 的 print_age_2_yr_ago() 方法\n",
    "luffy.print_age_2_yr_ago()\n",
    "\n",
    "#函數和方法和屬性的區分！！！（重要）"
   ]
  },
  {
   "cell_type": "code",
   "execution_count": null,
   "metadata": {
    "collapsed": true
   },
   "outputs": [],
   "source": []
  }
 ],
 "metadata": {
  "anaconda-cloud": {},
  "kernelspec": {
   "display_name": "Python [conda root]",
   "language": "python",
   "name": "conda-root-py"
  },
  "language_info": {
   "codemirror_mode": {
    "name": "ipython",
    "version": 3
   },
   "file_extension": ".py",
   "mimetype": "text/x-python",
   "name": "python",
   "nbconvert_exporter": "python",
   "pygments_lexer": "ipython3",
   "version": "3.5.2"
  }
 },
 "nbformat": 4,
 "nbformat_minor": 1
}
